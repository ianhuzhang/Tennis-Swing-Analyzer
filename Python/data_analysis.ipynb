{
 "cells": [
  {
   "cell_type": "code",
   "execution_count": 1,
   "metadata": {},
   "outputs": [],
   "source": [
    "import pandas as pd\n",
    "import numpy as np\n",
    "from sklearn import metrics"
   ]
  },
  {
   "cell_type": "code",
   "execution_count": 2,
   "metadata": {},
   "outputs": [],
   "source": [
    "filepath = \"../Data/Combined/FHD_55.csv\"\n",
    "data = pd.read_csv(filepath, index_col=False)"
   ]
  },
  {
   "cell_type": "code",
   "execution_count": 3,
   "metadata": {},
   "outputs": [],
   "source": [
    "#for val in data:\n",
    "#    if val != 'time':\n",
    "#        data[val] = (data[val] - min(data[val])) / (max(data[val]) - min(data[val]))"
   ]
  },
  {
   "cell_type": "code",
   "execution_count": 4,
   "metadata": {},
   "outputs": [],
   "source": [
    "data['controller_right_vel'] = (data['controller_right_vel.x'] ** 2 + data['controller_right_vel.y'] ** 2 + data['controller_right_vel.z'] ** 2) ** (1/2)"
   ]
  },
  {
   "cell_type": "code",
   "execution_count": 5,
   "metadata": {},
   "outputs": [],
   "source": [
    "idx_max = -1\n",
    "max = -float('inf')\n",
    "for i in range(len(data['controller_right_vel'])):\n",
    "    if float(data['controller_right_vel'][i]) > max:\n",
    "        max = float(data['controller_right_vel'][i])\n",
    "        idx_max = i"
   ]
  },
  {
   "cell_type": "code",
   "execution_count": 6,
   "metadata": {},
   "outputs": [
    {
     "data": {
      "text/plain": [
       "(10.075528058846395, 103)"
      ]
     },
     "execution_count": 6,
     "metadata": {},
     "output_type": "execute_result"
    }
   ],
   "source": [
    "max, idx_max"
   ]
  },
  {
   "cell_type": "code",
   "execution_count": 7,
   "metadata": {},
   "outputs": [
    {
     "data": {
      "text/plain": [
       "5.864957"
      ]
     },
     "execution_count": 7,
     "metadata": {},
     "output_type": "execute_result"
    }
   ],
   "source": [
    "data['controller_right_vel.y'][idx_max]"
   ]
  },
  {
   "cell_type": "code",
   "execution_count": 27,
   "metadata": {},
   "outputs": [
    {
     "name": "stdout",
     "output_type": "stream",
     "text": [
      "-11.74106\n",
      "0.1610769\n",
      "-2.119427\n"
     ]
    }
   ],
   "source": [
    "filepath = \"../Data/Combined/SRV_50.csv\"\n",
    "data = pd.read_csv(filepath, index_col=False)\n",
    "\n",
    "data['controller_right_vel'] = (data['controller_right_vel.x'] ** 2 + data['controller_right_vel.y'] ** 2 + data['controller_right_vel.z'] ** 2) ** (1/2)\n",
    "data['controller_right_rel_headset'] = (data['headset_pos.z']) - (data['controller_right_pos.z'])\n",
    "\n",
    "\n",
    "idx_max = -1\n",
    "max = -float('inf')\n",
    "for i in range(len(data['controller_right_vel'])):\n",
    "    if float(data['controller_right_vel'][i]) > max:\n",
    "        max = float(data['controller_right_vel'][i])\n",
    "        idx_max = i\n",
    "\n",
    "print(data['controller_right_vel.y'][idx_max])\n",
    "print(data['controller_right_vel.x'][idx_max])\n",
    "print(data['controller_left_vel.z'][idx_max])"
   ]
  },
  {
   "cell_type": "code",
   "execution_count": null,
   "metadata": {},
   "outputs": [],
   "source": [
    "def simple_stat_classifier(filepath):\n",
    "    data = pd.read_csv(filepath, index_col=False)\n",
    "    data['controller_right_vel'] = (data['controller_right_vel.x'] ** 2 + data['controller_right_vel.y'] ** 2 + data['controller_right_vel.z'] ** 2) ** (1/2)\n",
    "\n",
    "    idx_max = -1\n",
    "    max = -float('inf')\n",
    "    for i in range(len(data['controller_right_vel'])):\n",
    "        if float(data['controller_right_vel'][i]) > max:\n",
    "            max = float(data['controller_right_vel'][i])\n",
    "            idx_max = i\n",
    "\n",
    "    if float(data['controller_right_vel.y'][idx_max]) > 0:\n",
    "        # BHD or FHD\n",
    "        if float(data['controller_right_vel.x'][idx_max]) < 0:\n",
    "            return \"FHD\"\n",
    "        else:\n",
    "            return \"BHD\"\n",
    "    else:\n",
    "        # SRV or VOL\n",
    "        if float(data['controller_right_vel.y'][idx_max]) < -3.5: # Really wouldn't want to use this part...\n",
    "            return \"SRV\"\n",
    "        else:\n",
    "            return \"VOL\""
   ]
  },
  {
   "cell_type": "code",
   "execution_count": null,
   "metadata": {},
   "outputs": [
    {
     "data": {
      "text/plain": [
       "'BHD'"
      ]
     },
     "execution_count": 140,
     "metadata": {},
     "output_type": "execute_result"
    }
   ],
   "source": [
    "simple_stat_classifier(\"../Data/Combined/BHD_13.csv\")"
   ]
  },
  {
   "cell_type": "code",
   "execution_count": null,
   "metadata": {},
   "outputs": [],
   "source": [
    "actual = []\n",
    "predicted = []\n",
    "csv_number = []\n",
    "for action in ['BHD','FHD','VOL','SRV']:\n",
    "    for i in range(1,91):\n",
    "        filepath = \"../Data/Combined/\" + action + \"_\" + str(i).zfill(2) + \".csv\"\n",
    "        actual.append(action)\n",
    "        predicted.append(simple_stat_classifier(filepath))\n",
    "        csv_number.append(i)"
   ]
  },
  {
   "cell_type": "code",
   "execution_count": null,
   "metadata": {},
   "outputs": [
    {
     "name": "stdout",
     "output_type": "stream",
     "text": [
      "BHD FHD 84\n",
      "VOL SRV 13\n",
      "VOL SRV 67\n",
      "SRV VOL 3\n",
      "SRV VOL 9\n",
      "SRV BHD 11\n",
      "SRV VOL 73\n"
     ]
    }
   ],
   "source": [
    "for i in range(len(actual)):\n",
    "    if actual[i] != predicted[i]:\n",
    "        print(actual[i], predicted[i], csv_number[i])"
   ]
  },
  {
   "cell_type": "code",
   "execution_count": null,
   "metadata": {},
   "outputs": [
    {
     "data": {
      "text/plain": [
       "0.9805555555555555"
      ]
     },
     "execution_count": 155,
     "metadata": {},
     "output_type": "execute_result"
    }
   ],
   "source": [
    "metrics.accuracy_score(actual, predicted)"
   ]
  },
  {
   "cell_type": "markdown",
   "metadata": {},
   "source": [
    "Preliminary Data Analysis seems to show that if we just take the controller_right_vel.y datapoint at the highest controller velocity, we can differentiate between serves and FHD/BHD/VOL. \n",
    "\n",
    "SRV is highly negative. (controller moving downwards)\n",
    "\n",
    "FHD, BHD, are highly positive. (controller moving upwards)\n",
    "\n",
    "VOL is slightly negative. (controller moving downwards)\n",
    "\n",
    "Then out of FHD, BHD, we can check controller_right_vel.x\n",
    " - If > 0, BHD. (Controller moving to the right)\n",
    " - If < 0, FHD. (Controller moving to the left)\n",
    "\n",
    "But magnitude is dependent on person, so we might not be able to use that... Might only be able to use +/-"
   ]
  }
 ],
 "metadata": {
  "kernelspec": {
   "display_name": "base",
   "language": "python",
   "name": "python3"
  },
  "language_info": {
   "codemirror_mode": {
    "name": "ipython",
    "version": 3
   },
   "file_extension": ".py",
   "mimetype": "text/x-python",
   "name": "python",
   "nbconvert_exporter": "python",
   "pygments_lexer": "ipython3",
   "version": "3.9.12"
  }
 },
 "nbformat": 4,
 "nbformat_minor": 2
}

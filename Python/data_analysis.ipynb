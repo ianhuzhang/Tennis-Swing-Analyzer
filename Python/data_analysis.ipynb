{
 "cells": [
  {
   "cell_type": "code",
   "execution_count": 250,
   "metadata": {},
   "outputs": [],
   "source": [
    "import pandas as pd\n",
    "import numpy as np\n",
    "from sklearn import metrics\n",
    "from data_analysis import get_start, get_start_end"
   ]
  },
  {
   "cell_type": "code",
   "execution_count": 251,
   "metadata": {},
   "outputs": [],
   "source": [
    "filepath = \"../Data/Combined/FHD_55.csv\"\n",
    "data = pd.read_csv(filepath, index_col=False)"
   ]
  },
  {
   "cell_type": "code",
   "execution_count": 252,
   "metadata": {},
   "outputs": [],
   "source": [
    "#for val in data:\n",
    "#    if val != 'time':\n",
    "#        data[val] = (data[val] - min(data[val])) / (max(data[val]) - min(data[val]))"
   ]
  },
  {
   "cell_type": "code",
   "execution_count": 253,
   "metadata": {},
   "outputs": [],
   "source": [
    "data['controller_right_vel'] = (data['controller_right_vel.x'] ** 2 + data['controller_right_vel.y'] ** 2 + data['controller_right_vel.z'] ** 2) ** (1/2)"
   ]
  },
  {
   "cell_type": "code",
   "execution_count": 254,
   "metadata": {},
   "outputs": [],
   "source": [
    "idx_max = -1\n",
    "mx = -float('inf')\n",
    "for i in range(len(data['controller_right_vel'])):\n",
    "    if float(data['controller_right_vel'][i]) > mx:\n",
    "        mx = float(data['controller_right_vel'][i])\n",
    "        idx_max = i"
   ]
  },
  {
   "cell_type": "code",
   "execution_count": 255,
   "metadata": {},
   "outputs": [
    {
     "data": {
      "text/plain": [
       "(10.075528058846395, 103)"
      ]
     },
     "execution_count": 255,
     "metadata": {},
     "output_type": "execute_result"
    }
   ],
   "source": [
    "mx, idx_max"
   ]
  },
  {
   "cell_type": "code",
   "execution_count": 256,
   "metadata": {},
   "outputs": [
    {
     "name": "stdout",
     "output_type": "stream",
     "text": [
      "-11.74106\n",
      "0.1610769\n",
      "-2.119427\n"
     ]
    }
   ],
   "source": [
    "filepath = \"../Data/Combined/SRV_50.csv\"\n",
    "data = pd.read_csv(filepath, index_col=False)\n",
    "\n",
    "data['controller_right_vel'] = (data['controller_right_vel.x'] ** 2 + data['controller_right_vel.y'] ** 2 + data['controller_right_vel.z'] ** 2) ** (1/2)\n",
    "data['controller_right_rel_headset'] = (data['headset_pos.z']) - (data['controller_right_pos.z'])\n",
    "\n",
    "\n",
    "idx_max = -1\n",
    "mx = -float('inf')\n",
    "for i in range(len(data['controller_right_vel'])):\n",
    "    if float(data['controller_right_vel'][i]) > mx:\n",
    "        mx = float(data['controller_right_vel'][i])\n",
    "        idx_max = i\n",
    "\n",
    "print(data['controller_right_vel.y'][idx_max])\n",
    "print(data['controller_right_vel.x'][idx_max])\n",
    "print(data['controller_left_vel.z'][idx_max])"
   ]
  },
  {
   "cell_type": "code",
   "execution_count": 257,
   "metadata": {},
   "outputs": [],
   "source": [
    "def simple_stat_classifier(filepath):\n",
    "    data = pd.read_csv(filepath, index_col=False)\n",
    "    data['controller_right_vel'] = (data['controller_right_vel.x'] ** 2 + data['controller_right_vel.y'] ** 2 + data['controller_right_vel.z'] ** 2) ** (1/2)\n",
    "\n",
    "    idx_max = -1\n",
    "    max = -float('inf')\n",
    "    for i in range(len(data['controller_right_vel'])):\n",
    "        if float(data['controller_right_vel'][i]) > max:\n",
    "            max = float(data['controller_right_vel'][i])\n",
    "            idx_max = i\n",
    "\n",
    "    if float(data['controller_right_vel.y'][idx_max]) > 0:\n",
    "        # BHD or FHD\n",
    "        if float(data['controller_right_vel.x'][idx_max]) < 0:\n",
    "            return \"FHD\"\n",
    "        else:\n",
    "            return \"BHD\"\n",
    "    else:\n",
    "        # SRV or VOL\n",
    "        if float(data['controller_right_vel.y'][idx_max]) < -3.5: # Really wouldn't want to use this part...\n",
    "            return \"SRV\"\n",
    "        else:\n",
    "            return \"VOL\""
   ]
  },
  {
   "cell_type": "code",
   "execution_count": 258,
   "metadata": {},
   "outputs": [
    {
     "data": {
      "text/plain": [
       "'BHD'"
      ]
     },
     "execution_count": 258,
     "metadata": {},
     "output_type": "execute_result"
    }
   ],
   "source": [
    "simple_stat_classifier(\"../Data/Combined/BHD_13.csv\")"
   ]
  },
  {
   "cell_type": "markdown",
   "metadata": {},
   "source": [
    "Preliminary Data Analysis seems to show that if we just take the controller_right_vel.y datapoint at the highest controller velocity, we can differentiate between serves and FHD/BHD/VOL. \n",
    "\n",
    "SRV is highly negative. (controller moving downwards)\n",
    "\n",
    "FHD, BHD, are highly positive. (controller moving upwards)\n",
    "\n",
    "VOL is slightly negative. (controller moving downwards)\n",
    "\n",
    "Then out of FHD, BHD, we can check controller_right_vel.x\n",
    " - If > 0, BHD. (Controller moving to the right)\n",
    " - If < 0, FHD. (Controller moving to the left)\n",
    "\n",
    "But magnitude is dependent on person, so we might not be able to use that... Might only be able to use +/-"
   ]
  },
  {
   "cell_type": "code",
   "execution_count": 259,
   "metadata": {},
   "outputs": [],
   "source": [
    "def test_accuracy(classifier, errors=False):\n",
    "    \"\"\"\n",
    "    Function to test how accurate your classifier is. Takes a classifier \n",
    "    (a function) that takes a filepath, and returns a string, either \n",
    "    'BHD', 'FHD', 'VOL', or 'SRV'. \n",
    "\n",
    "    Also can specifiy whether to print errors.\n",
    "\n",
    "    Returns accuracy score of the classifier. \n",
    "    \"\"\"\n",
    "    actual = []\n",
    "    predicted = []\n",
    "    csv_number = []\n",
    "    for action in ['BHD','FHD','VOL','SRV']:\n",
    "        for i in range(1,91):\n",
    "            filepath = \"../Data/Combined/\" + action + \"_\" + str(i).zfill(2) + \".csv\"\n",
    "            actual.append(action)\n",
    "            predicted.append(classifier(filepath))\n",
    "            csv_number.append(i)\n",
    "    \n",
    "    if errors:\n",
    "        for i in range(len(actual)):\n",
    "            if actual[i] != predicted[i]:\n",
    "                print(actual[i], predicted[i], csv_number[i])\n",
    "    \n",
    "    return metrics.accuracy_score(actual, predicted)"
   ]
  },
  {
   "cell_type": "code",
   "execution_count": 260,
   "metadata": {},
   "outputs": [],
   "source": [
    "def simple_stat_classifier_2(filepath):\n",
    "    \"\"\"\n",
    "    Takes a filepath containing a sensor trace. First trims data according to\n",
    "    isolate the swing action. Then, based on trimmed csv file, runs statistical\n",
    "    classifier to determine swing type.\n",
    "\n",
    "    Returns string, determining guessed swing type.\n",
    "    \"\"\"\n",
    "    data = pd.read_csv(filepath, index_col=False)\n",
    "    data['controller_right_vel'] = (data['controller_right_vel.x'] ** 2 + data['controller_right_vel.y'] ** 2 + data['controller_right_vel.z'] ** 2) ** (1/2)\n",
    "\n",
    "    start, end = get_start_end(data) # Determine start and end of swing\n",
    "    data = data[start:end]\n",
    "    \n",
    "    idx_max = -1\n",
    "    mx = -float('inf') # Finding moment of maximum velocity\n",
    "    for i in range(len(data['controller_right_vel'])):\n",
    "        i += start\n",
    "        if float(data['controller_right_vel'][i]) > mx:\n",
    "            mx = float(data['controller_right_vel'][i])\n",
    "            idx_max = i\n",
    "\n",
    "    if float(data['controller_right_vel.y'][idx_max]) > 0: # If swing moves upwards\n",
    "        # BHD or FHD\n",
    "        if float(data['controller_right_vel.x'][idx_max]) < 0: # If swing moves left/right\n",
    "            return \"FHD\"\n",
    "        else:\n",
    "            return \"BHD\"\n",
    "    else:\n",
    "        # SRV or VOL    # Finding peak of controller, relative to headset\n",
    "        if max((data['controller_right_pos.y'] - data['headset_pos.y'])) > 0.2: # 0.2 may need to be normalized\n",
    "        #if max((data['controller_right_pos.y'] - data['headset_pos.y'])) > 0: # This works for Ian/Lucien, but gets Jason wrong every single time lol\n",
    "            return \"SRV\"\n",
    "        else:\n",
    "            return \"VOL\""
   ]
  },
  {
   "cell_type": "markdown",
   "metadata": {},
   "source": [
    "TESTING BELOW"
   ]
  },
  {
   "cell_type": "code",
   "execution_count": 261,
   "metadata": {},
   "outputs": [],
   "source": [
    "filepath = \"../Data/Combined/SRV_57.csv\"\n",
    "data = pd.read_csv(filepath, index_col=False)\n",
    "\n",
    "data['controller_right_vel'] = (data['controller_right_vel.x'] ** 2 + data['controller_right_vel.y'] ** 2 + data['controller_right_vel.z'] ** 2) ** (1/2)\n",
    "\n",
    "idx_max = -1\n",
    "mx = -float('inf')\n",
    "for i in range(len(data['controller_right_vel'])):\n",
    "    if float(data['controller_right_vel'][i]) > mx:\n",
    "        mx = float(data['controller_right_vel'][i])\n",
    "        idx_max = i"
   ]
  },
  {
   "cell_type": "code",
   "execution_count": 262,
   "metadata": {},
   "outputs": [
    {
     "data": {
      "text/plain": [
       "-0.40462167"
      ]
     },
     "execution_count": 262,
     "metadata": {},
     "output_type": "execute_result"
    }
   ],
   "source": [
    "s = get_start(data)\n",
    "data['headset_pos.y'][s] - data['controller_right_pos.y'][s]"
   ]
  },
  {
   "cell_type": "code",
   "execution_count": 263,
   "metadata": {},
   "outputs": [
    {
     "data": {
      "text/plain": [
       "0.015195051647058843"
      ]
     },
     "execution_count": 263,
     "metadata": {},
     "output_type": "execute_result"
    }
   ],
   "source": [
    "data['headset_pos.y'].mean()"
   ]
  },
  {
   "cell_type": "code",
   "execution_count": 264,
   "metadata": {},
   "outputs": [
    {
     "data": {
      "text/plain": [
       "0.9805555555555555"
      ]
     },
     "execution_count": 264,
     "metadata": {},
     "output_type": "execute_result"
    }
   ],
   "source": [
    "test_accuracy(simple_stat_classifier)"
   ]
  },
  {
   "cell_type": "code",
   "execution_count": 265,
   "metadata": {},
   "outputs": [
    {
     "data": {
      "text/plain": [
       "0.9944444444444445"
      ]
     },
     "execution_count": 265,
     "metadata": {},
     "output_type": "execute_result"
    }
   ],
   "source": [
    "test_accuracy(simple_stat_classifier_2)"
   ]
  }
 ],
 "metadata": {
  "kernelspec": {
   "display_name": "base",
   "language": "python",
   "name": "python3"
  },
  "language_info": {
   "codemirror_mode": {
    "name": "ipython",
    "version": 3
   },
   "file_extension": ".py",
   "mimetype": "text/x-python",
   "name": "python",
   "nbconvert_exporter": "python",
   "pygments_lexer": "ipython3",
   "version": "3.9.12"
  }
 },
 "nbformat": 4,
 "nbformat_minor": 2
}

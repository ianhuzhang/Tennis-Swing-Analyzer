{
 "cells": [
  {
   "cell_type": "code",
   "execution_count": 2,
   "metadata": {},
   "outputs": [],
   "source": [
    "import pandas as pd\n",
    "import numpy as np\n",
    "from sklearn import metrics\n",
    "from data_analysis import get_start, get_start_end\n",
    "import math"
   ]
  },
  {
   "cell_type": "code",
   "execution_count": 3,
   "metadata": {},
   "outputs": [],
   "source": [
    "filepath = \"../Data/Combined/FHD_55.csv\"\n",
    "data = pd.read_csv(filepath, index_col=False)"
   ]
  },
  {
   "cell_type": "code",
   "execution_count": 4,
   "metadata": {},
   "outputs": [],
   "source": [
    "#for val in data:\n",
    "#    if val != 'time':\n",
    "#        data[val] = (data[val] - min(data[val])) / (max(data[val]) - min(data[val]))"
   ]
  },
  {
   "cell_type": "code",
   "execution_count": 5,
   "metadata": {},
   "outputs": [],
   "source": [
    "data['controller_right_vel'] = (data['controller_right_vel.x'] ** 2 + data['controller_right_vel.y'] ** 2 + data['controller_right_vel.z'] ** 2) ** (1/2)"
   ]
  },
  {
   "cell_type": "code",
   "execution_count": 6,
   "metadata": {},
   "outputs": [],
   "source": [
    "idx_max = -1\n",
    "mx = -float('inf')\n",
    "for i in range(len(data['controller_right_vel'])):\n",
    "    if float(data['controller_right_vel'][i]) > mx:\n",
    "        mx = float(data['controller_right_vel'][i])\n",
    "        idx_max = i"
   ]
  },
  {
   "cell_type": "code",
   "execution_count": 7,
   "metadata": {},
   "outputs": [
    {
     "data": {
      "text/plain": [
       "(10.075528058846395, 103)"
      ]
     },
     "execution_count": 7,
     "metadata": {},
     "output_type": "execute_result"
    }
   ],
   "source": [
    "mx, idx_max"
   ]
  },
  {
   "cell_type": "code",
   "execution_count": 8,
   "metadata": {},
   "outputs": [
    {
     "name": "stdout",
     "output_type": "stream",
     "text": [
      "-11.74106\n",
      "0.1610769\n",
      "-2.119427\n"
     ]
    }
   ],
   "source": [
    "filepath = \"../Data/Combined/SRV_50.csv\"\n",
    "data = pd.read_csv(filepath, index_col=False)\n",
    "\n",
    "data['controller_right_vel'] = (data['controller_right_vel.x'] ** 2 + data['controller_right_vel.y'] ** 2 + data['controller_right_vel.z'] ** 2) ** (1/2)\n",
    "data['controller_right_rel_headset'] = (data['headset_pos.z']) - (data['controller_right_pos.z'])\n",
    "\n",
    "\n",
    "idx_max = -1\n",
    "mx = -float('inf')\n",
    "for i in range(len(data['controller_right_vel'])):\n",
    "    if float(data['controller_right_vel'][i]) > mx:\n",
    "        mx = float(data['controller_right_vel'][i])\n",
    "        idx_max = i\n",
    "\n",
    "print(data['controller_right_vel.y'][idx_max])\n",
    "print(data['controller_right_vel.x'][idx_max])\n",
    "print(data['controller_left_vel.z'][idx_max])"
   ]
  },
  {
   "cell_type": "code",
   "execution_count": 9,
   "metadata": {},
   "outputs": [],
   "source": [
    "def simple_stat_classifier(filepath):\n",
    "    data = pd.read_csv(filepath, index_col=False)\n",
    "    data['controller_right_vel'] = (data['controller_right_vel.x'] ** 2 + data['controller_right_vel.y'] ** 2 + data['controller_right_vel.z'] ** 2) ** (1/2)\n",
    "\n",
    "    idx_max = -1\n",
    "    max = -float('inf')\n",
    "    for i in range(len(data['controller_right_vel'])):\n",
    "        if float(data['controller_right_vel'][i]) > max:\n",
    "            max = float(data['controller_right_vel'][i])\n",
    "            idx_max = i\n",
    "\n",
    "    if float(data['controller_right_vel.y'][idx_max]) > 0:\n",
    "        # BHD or FHD\n",
    "        if float(data['controller_right_vel.x'][idx_max]) < 0:\n",
    "            return \"FHD\"\n",
    "        else:\n",
    "            return \"BHD\"\n",
    "    else:\n",
    "        # SRV or VOL\n",
    "        if float(data['controller_right_vel.y'][idx_max]) < -3.5: # Really wouldn't want to use this part...\n",
    "            return \"SRV\"\n",
    "        else:\n",
    "            return \"VOL\""
   ]
  },
  {
   "cell_type": "code",
   "execution_count": 10,
   "metadata": {},
   "outputs": [
    {
     "data": {
      "text/plain": [
       "'BHD'"
      ]
     },
     "execution_count": 10,
     "metadata": {},
     "output_type": "execute_result"
    }
   ],
   "source": [
    "simple_stat_classifier(\"../Data/Combined/BHD_13.csv\")"
   ]
  },
  {
   "cell_type": "markdown",
   "metadata": {},
   "source": [
    "Preliminary Data Analysis seems to show that if we just take the controller_right_vel.y datapoint at the highest controller velocity, we can differentiate between serves and FHD/BHD/VOL. \n",
    "\n",
    "SRV is highly negative. (controller moving downwards)\n",
    "\n",
    "FHD, BHD, are highly positive. (controller moving upwards)\n",
    "\n",
    "VOL is slightly negative. (controller moving downwards)\n",
    "\n",
    "Then out of FHD, BHD, we can check controller_right_vel.x\n",
    " - If > 0, BHD. (Controller moving to the right)\n",
    " - If < 0, FHD. (Controller moving to the left)\n",
    "\n",
    "But magnitude is dependent on person, so we might not be able to use that... Might only be able to use +/-"
   ]
  },
  {
   "cell_type": "code",
   "execution_count": 11,
   "metadata": {},
   "outputs": [],
   "source": [
    "def test_accuracy(classifier, errors=False):\n",
    "    \"\"\"\n",
    "    Function to test how accurate your classifier is. Takes a classifier \n",
    "    (a function) that takes a filepath, and returns a string, either \n",
    "    'BHD', 'FHD', 'VOL', or 'SRV'. \n",
    "\n",
    "    Also can specifiy whether to print errors.\n",
    "\n",
    "    Returns accuracy score of the classifier. \n",
    "    \"\"\"\n",
    "    actual = []\n",
    "    predicted = []\n",
    "    csv_number = []\n",
    "    for action in ['BHD','FHD','VOL','SRV']:\n",
    "        for i in range(1,91):\n",
    "            filepath = \"../Data/Combined/\" + action + \"_\" + str(i).zfill(2) + \".csv\"\n",
    "            actual.append(action)\n",
    "            predicted.append(classifier(filepath))\n",
    "            csv_number.append(i)\n",
    "    \n",
    "    if errors:\n",
    "        for i in range(len(actual)):\n",
    "            if actual[i] != predicted[i]:\n",
    "                print(actual[i], predicted[i], csv_number[i])\n",
    "    \n",
    "    return metrics.accuracy_score(actual, predicted)"
   ]
  },
  {
   "cell_type": "code",
   "execution_count": 12,
   "metadata": {},
   "outputs": [],
   "source": [
    "def simple_stat_classifier_2(filepath):\n",
    "    \"\"\"\n",
    "    Takes a filepath containing a sensor trace. First trims data according to\n",
    "    isolate the swing action. Then, based on trimmed csv file, runs statistical\n",
    "    classifier to determine swing type.\n",
    "\n",
    "    Returns string, determining guessed swing type.\n",
    "    \"\"\"\n",
    "    data = pd.read_csv(filepath, index_col=False)\n",
    "    data['controller_right_vel'] = (data['controller_right_vel.x'] ** 2 + data['controller_right_vel.y'] ** 2 + data['controller_right_vel.z'] ** 2) ** (1/2)\n",
    "\n",
    "    start, end = get_start_end(data) # Determine start and end of swing\n",
    "    data = data[start:end]\n",
    "    \n",
    "    idx_max = -1\n",
    "    mx = -float('inf') # Finding moment of maximum velocity\n",
    "    for i in range(len(data['controller_right_vel'])):\n",
    "        i += start\n",
    "        if float(data['controller_right_vel'][i]) > mx:\n",
    "            mx = float(data['controller_right_vel'][i])\n",
    "            idx_max = i\n",
    "\n",
    "    if float(data['controller_right_vel.y'][idx_max]) > 0: # If swing moves upwards\n",
    "        # BHD or FHD\n",
    "        if float(data['controller_right_vel.x'][idx_max]) < 0: # If swing moves left/right\n",
    "            return \"FHD\"\n",
    "        else:\n",
    "            return \"BHD\"\n",
    "    else:\n",
    "        # SRV or VOL    # Finding peak of controller, relative to headset\n",
    "        if max((data['controller_right_pos.y'] - data['headset_pos.y'])) > 0.2: # 0.2 may need to be normalized\n",
    "        #if max((data['controller_right_pos.y'] - data['headset_pos.y'])) > 0: # This works for Ian/Lucien, but gets Jason wrong every single time lol\n",
    "            return \"SRV\"\n",
    "        else:\n",
    "            return \"VOL\""
   ]
  },
  {
   "cell_type": "markdown",
   "metadata": {},
   "source": [
    "TESTING BELOW"
   ]
  },
  {
   "cell_type": "code",
   "execution_count": 13,
   "metadata": {},
   "outputs": [],
   "source": [
    "filepath = \"../Data/Combined/SRV_57.csv\"\n",
    "data = pd.read_csv(filepath, index_col=False)\n",
    "\n",
    "data['controller_right_vel'] = (data['controller_right_vel.x'] ** 2 + data['controller_right_vel.y'] ** 2 + data['controller_right_vel.z'] ** 2) ** (1/2)\n",
    "\n",
    "idx_max = -1\n",
    "mx = -float('inf')\n",
    "for i in range(len(data['controller_right_vel'])):\n",
    "    if float(data['controller_right_vel'][i]) > mx:\n",
    "        mx = float(data['controller_right_vel'][i])\n",
    "        idx_max = i"
   ]
  },
  {
   "cell_type": "code",
   "execution_count": 14,
   "metadata": {},
   "outputs": [
    {
     "data": {
      "text/plain": [
       "-0.40462167"
      ]
     },
     "execution_count": 14,
     "metadata": {},
     "output_type": "execute_result"
    }
   ],
   "source": [
    "s = get_start(data)\n",
    "data['headset_pos.y'][s] - data['controller_right_pos.y'][s]"
   ]
  },
  {
   "cell_type": "code",
   "execution_count": 15,
   "metadata": {},
   "outputs": [
    {
     "data": {
      "text/plain": [
       "0.015195051647058843"
      ]
     },
     "execution_count": 15,
     "metadata": {},
     "output_type": "execute_result"
    }
   ],
   "source": [
    "data['headset_pos.y'].mean()"
   ]
  },
  {
   "cell_type": "code",
   "execution_count": 16,
   "metadata": {},
   "outputs": [
    {
     "data": {
      "text/plain": [
       "0.9805555555555555"
      ]
     },
     "execution_count": 16,
     "metadata": {},
     "output_type": "execute_result"
    }
   ],
   "source": [
    "test_accuracy(simple_stat_classifier)"
   ]
  },
  {
   "cell_type": "code",
   "execution_count": 17,
   "metadata": {},
   "outputs": [
    {
     "data": {
      "text/plain": [
       "0.9944444444444445"
      ]
     },
     "execution_count": 17,
     "metadata": {},
     "output_type": "execute_result"
    }
   ],
   "source": [
    "test_accuracy(simple_stat_classifier_2)"
   ]
  },
  {
   "cell_type": "code",
   "execution_count": 18,
   "metadata": {},
   "outputs": [],
   "source": [
    "def get_start_end_after_classification(data, swing):\n",
    "    \"\"\"\n",
    "    Another preliminary Function to determine start and end indices for a given FHD\n",
    "    or BHD sensor trace.\n",
    "\n",
    "    Returns tuple, of indices at which start and end of swing are estimated\n",
    "    to be.\n",
    "    \"\"\"\n",
    "    start = 0\n",
    "    end = len(data[\"controller_right_vel.z\"])\n",
    "\n",
    "    data[\"controller_right_vel\"] = (\n",
    "        data[\"controller_right_vel.x\"] ** 2\n",
    "        + data[\"controller_right_vel.y\"] ** 2\n",
    "        + data[\"controller_right_vel.z\"] ** 2\n",
    "    ) ** (1 / 2)\n",
    "\n",
    "    pos = -1\n",
    "    neg = -1\n",
    "    mn = float(\"inf\")\n",
    "    mx = -float(\"inf\")\n",
    "    apex = -1\n",
    "    max_apex = -float(\"inf\")\n",
    "\n",
    "    for i in range(\n",
    "        len(data[\"controller_right_vel\"])\n",
    "    ):  # Finding moment of highest Velocity\n",
    "        if float(data[\"controller_right_vel\"][i]) > max_apex:\n",
    "            apex = i\n",
    "            max_apex = data[\"controller_right_vel\"][i]\n",
    "\n",
    "    for i in range(apex):\n",
    "        if (\n",
    "            float(data[\"controller_right_vel.z\"][i]) > mx\n",
    "        ):  # Finding moment of highest velocity forwards, up to apex\n",
    "            mx = float(data[\"controller_right_vel.z\"][i])\n",
    "            pos = i\n",
    "    for i in range(\n",
    "        apex, len(data[\"controller_right_vel.z\"])\n",
    "    ):  # Finding moment of highest velocity backwards, after apex\n",
    "        if float(data[\"controller_right_vel.z\"][i]) < mn:\n",
    "            mn = float(data[\"controller_right_vel.z\"][i])\n",
    "            neg = i\n",
    "\n",
    "    for i in range(pos, 0, -1):  \n",
    "        # Search backwards from moment of highest velocity forwards. Finds moment when z-velocity becomes significant.\n",
    "        if (\n",
    "            data[\"controller_right_vel.z\"][i] >= 0.2\n",
    "            and data[\"controller_right_vel.z\"][i - 1] < 0.2\n",
    "        ):\n",
    "            start = i\n",
    "            break\n",
    "\n",
    "    if (\n",
    "        swing != 'VOL'\n",
    "    ):  \n",
    "        for i in range(\n",
    "            neg, len(data[\"controller_right_vel.z\"]) - 1\n",
    "        ):  # Search forwards from moment of highest velocity backwards. Finds moment when z-velocity becomes insignificant.\n",
    "            if (\n",
    "                data[\"controller_right_vel.z\"][i] <= -0.2\n",
    "                and data[\"controller_right_vel.z\"][i + 1] > -0.2\n",
    "            ):\n",
    "                end = i + 1\n",
    "                break\n",
    "\n",
    "    else:\n",
    "        for i in range(\n",
    "            pos, len(data[\"controller_right_vel.z\"]) - 1\n",
    "        ):  # Search forwards from moment of highest velocity forwards. Finds moment when z-velocity becomes insignificant.\n",
    "            if (\n",
    "                data[\"controller_right_vel.z\"][i] >= 0.2\n",
    "                and data[\"controller_right_vel.z\"][i + 1] < 0.2\n",
    "            ):\n",
    "                end = i + 1\n",
    "                break\n",
    "    \n",
    "    end = min(end, len(data) - 1)\n",
    "\n",
    "    return (start, end)"
   ]
  },
  {
   "cell_type": "code",
   "execution_count": 19,
   "metadata": {},
   "outputs": [
    {
     "name": "stdout",
     "output_type": "stream",
     "text": [
      "FHD\n",
      "96 142\n"
     ]
    }
   ],
   "source": [
    "filepath = \"../Data/Combined/FHD_25.csv\"\n",
    "data = pd.read_csv(filepath, index_col=False)\n",
    "\n",
    "prediction = simple_stat_classifier_2(filepath)\n",
    "\n",
    "print(prediction)\n",
    "\n",
    "start, end = get_start_end_after_classification(data, prediction)\n",
    "print(start, end)"
   ]
  },
  {
   "cell_type": "code",
   "execution_count": 20,
   "metadata": {},
   "outputs": [],
   "source": [
    "def get_rotation(filepath, prediction=None, start_end=None):\n",
    "    \"\"\"\n",
    "    Script to get controller rotation around the body, given a filepath to a \n",
    "    CSV sensor trace.\n",
    "\n",
    "    Takes optional parameters:\n",
    "        prediction: (str): (\"SRV\", \"FHD\", \"BHD\", \"VOL\")\n",
    "        start_end: (tuple(int, int)): start and end of swing\n",
    "    \n",
    "    If these optional parameters are not given, they are computed and then used.\n",
    "\n",
    "    Returns the degrees of rotation that the controller goes through.\n",
    "    \"\"\"\n",
    "    data = pd.read_csv(filepath, index_col=False)\n",
    "    if not prediction:\n",
    "        prediction = simple_stat_classifier_2(filepath)\n",
    "    if not start_end:\n",
    "        start, end = get_start_end_after_classification(data, prediction)\n",
    "    else:\n",
    "        start, end = start_end\n",
    "\n",
    "    res = 0\n",
    "    for i in range(start, end-2):\n",
    "        vec1 = (data['controller_right_pos.x'][i] - data['headset_pos.x'][i], data['controller_right_pos.z'][i] - data['headset_pos.z'][i])\n",
    "        vec2 = (data['controller_right_pos.x'][i+1] - data['headset_pos.x'][i+1], data['controller_right_pos.z'][i+1] - data['headset_pos.z'][i+1])\n",
    "\n",
    "        dot = vec1[0] * vec2[0] + vec1[1] * vec2[1]\n",
    "        mag1 = (vec1[0] ** 2 + vec1[1] ** 2) ** 0.5\n",
    "        mag2 = (vec2[0] ** 2 + vec2[1] ** 2) ** 0.5\n",
    "        res += math.acos(dot/mag1/mag2)\n",
    "\n",
    "    return res * 180 / math.pi"
   ]
  },
  {
   "cell_type": "code",
   "execution_count": 21,
   "metadata": {},
   "outputs": [
    {
     "name": "stdout",
     "output_type": "stream",
     "text": [
      "0     -0.001610\n",
      "1     -0.006126\n",
      "2     -0.012179\n",
      "3     -0.019597\n",
      "4     -0.028795\n",
      "5     -0.040843\n",
      "6     -0.058095\n",
      "7     -0.066473\n",
      "8     -0.066762\n",
      "9     -0.062341\n",
      "10    -0.059490\n",
      "11    -0.063195\n",
      "12    -0.066854\n",
      "13    -0.071403\n",
      "14    -0.083521\n",
      "15    -0.098973\n",
      "16    -0.112727\n",
      "17    -0.127699\n",
      "18    -0.149924\n",
      "19    -0.167141\n",
      "20    -0.180358\n",
      "21    -0.181333\n",
      "22    -0.182009\n",
      "23    -0.191836\n",
      "24    -0.207189\n",
      "25    -0.227402\n",
      "26    -0.244742\n",
      "27    -0.263510\n",
      "28    -0.284230\n",
      "29    -0.303490\n",
      "30    -0.321675\n",
      "31    -0.336622\n",
      "32    -0.354128\n",
      "33    -0.383165\n",
      "34    -0.418645\n",
      "35    -0.451937\n",
      "36    -0.480602\n",
      "37    -0.511104\n",
      "38    -0.546472\n",
      "39    -0.582922\n",
      "40    -0.622702\n",
      "41    -0.675475\n",
      "42    -0.731499\n",
      "43    -0.793885\n",
      "44    -0.866726\n",
      "45    -0.947489\n",
      "46    -1.029217\n",
      "47    -1.115293\n",
      "48    -1.193884\n",
      "49    -1.289700\n",
      "50    -1.368237\n",
      "51    -1.446350\n",
      "52    -1.529793\n",
      "53    -1.615017\n",
      "54    -1.691071\n",
      "55    -1.752964\n",
      "56    -1.813224\n",
      "57    -1.874460\n",
      "58    -1.934296\n",
      "59    -1.983339\n",
      "60    -2.007944\n",
      "61    -2.006197\n",
      "62    -1.978767\n",
      "63    -1.936609\n",
      "64    -1.874619\n",
      "65    -1.790695\n",
      "66    -1.712242\n",
      "67    -1.652743\n",
      "68    -1.568235\n",
      "69    -1.495733\n",
      "70    -1.438652\n",
      "71    -1.385300\n",
      "72    -1.350359\n",
      "73    -1.333924\n",
      "74    -1.323346\n",
      "75    -1.308245\n",
      "76    -1.278752\n",
      "77    -1.244590\n",
      "78    -1.207474\n",
      "79    -1.181943\n",
      "80    -1.151752\n",
      "81    -1.107709\n",
      "82    -1.063006\n",
      "83    -1.022741\n",
      "84    -0.983225\n",
      "85    -0.921500\n",
      "86    -0.839997\n",
      "87    -0.729188\n",
      "88    -0.606176\n",
      "89    -0.505511\n",
      "90    -0.425474\n",
      "91    -0.353668\n",
      "92    -0.274523\n",
      "93    -0.169426\n",
      "94    -0.026744\n",
      "95     0.156359\n",
      "96     0.334756\n",
      "97     0.438272\n",
      "98     0.509351\n",
      "99     0.580419\n",
      "100    0.714886\n",
      "101    0.914650\n",
      "102    1.156436\n",
      "103    1.418124\n",
      "104    1.687052\n",
      "105    1.977999\n",
      "106    2.305479\n",
      "107    2.657620\n",
      "108    3.035815\n",
      "109    3.473438\n",
      "110    4.003014\n",
      "111    4.629066\n",
      "112    5.354223\n",
      "113    5.970257\n",
      "114    6.635621\n",
      "115    7.287175\n",
      "116    7.686483\n",
      "117    7.781489\n",
      "118    7.572493\n",
      "119    7.069338\n",
      "120    6.278197\n",
      "121    5.397968\n",
      "122    4.174926\n",
      "123    2.745761\n",
      "124    1.111247\n",
      "125   -0.762958\n",
      "126   -2.772776\n",
      "127   -4.667593\n",
      "128   -6.351187\n",
      "129   -7.325676\n",
      "130   -7.719060\n",
      "131   -7.534085\n",
      "132   -6.864378\n",
      "133   -6.056057\n",
      "134   -5.097095\n",
      "135   -4.163441\n",
      "136   -3.276699\n",
      "137   -2.464678\n",
      "138   -1.753970\n",
      "139   -1.184587\n",
      "140   -0.732270\n",
      "141   -0.381260\n",
      "142   -0.096460\n",
      "143    0.051078\n",
      "144    0.181902\n",
      "145    0.241128\n",
      "146    0.259027\n",
      "147    0.249640\n",
      "148    0.235542\n",
      "149    0.196040\n",
      "150    0.150728\n",
      "151    0.125057\n",
      "152    0.101381\n",
      "153    0.085237\n",
      "154    0.081608\n",
      "155    0.099226\n",
      "156    0.134540\n",
      "157    0.181531\n",
      "158    0.239118\n",
      "159    0.313251\n",
      "160    0.382117\n",
      "161    0.449862\n",
      "162    0.510679\n",
      "163    0.558738\n",
      "164    0.608428\n",
      "165    0.650844\n",
      "166    0.696602\n",
      "167    0.736730\n",
      "168    0.765954\n",
      "169    0.783109\n",
      "170    0.789623\n",
      "171    0.806820\n",
      "172    0.850225\n",
      "173    0.914558\n",
      "174    0.986764\n",
      "175    1.031315\n",
      "176    1.025036\n",
      "177    1.005463\n",
      "178    0.989323\n",
      "179    0.993976\n",
      "180    0.997639\n",
      "181    0.984034\n",
      "182    0.964873\n",
      "183    0.938554\n",
      "184    0.903779\n",
      "185    0.869153\n",
      "186    0.838865\n",
      "187    0.814523\n",
      "188    0.789993\n",
      "189    0.766622\n",
      "190    0.746947\n",
      "191    0.726706\n",
      "192    0.715019\n"
     ]
    }
   ],
   "source": [
    "print(data['controller_right_vel.z'].to_string())"
   ]
  },
  {
   "cell_type": "code",
   "execution_count": 22,
   "metadata": {},
   "outputs": [
    {
     "ename": "SyntaxError",
     "evalue": "invalid syntax (3165665707.py, line 1)",
     "output_type": "error",
     "traceback": [
      "\u001b[0;36m  Input \u001b[0;32mIn [22]\u001b[0;36m\u001b[0m\n\u001b[0;31m    x = -cos(yaw)sin(pitch)sin(roll)-sin(yaw)cos(roll) +\u001b[0m\n\u001b[0m                 ^\u001b[0m\n\u001b[0;31mSyntaxError\u001b[0m\u001b[0;31m:\u001b[0m invalid syntax\n"
     ]
    }
   ],
   "source": [
    "x = -cos(yaw)sin(pitch)sin(roll)-sin(yaw)cos(roll) + \n",
    "y = -sin(yaw)sin(pitch)sin(roll)+cos(yaw)cos(roll)\n",
    "z =  cos(pitch)sin(roll)"
   ]
  },
  {
   "cell_type": "code",
   "execution_count": null,
   "metadata": {},
   "outputs": [],
   "source": [
    "import numpy as np"
   ]
  },
  {
   "cell_type": "code",
   "execution_count": null,
   "metadata": {},
   "outputs": [
    {
     "name": "stdout",
     "output_type": "stream",
     "text": [
      "0.4436927611541268 -0.7837673476204984 -0.4345635494416851\n",
      "0.4188479765295091 -0.8290369610646697 0.3704916864732503\n",
      "0.5737174630565332 0.805094989519917 -0.1505666976256712\n",
      "0.9330389232626198 0.1581655472941278 -0.3231439730616682\n",
      "0.1861495700070767 -0.2820960996415709 -0.9411536155980029\n",
      "-0.9739730591816456 -0.22452553602085112 -0.031060644920802703\n",
      "0.8791926623202106 0.16874426556131333 -0.4455845995571134\n",
      "-0.26512627487282986 -0.36297767775733564 -0.893283417411265\n",
      "-0.21149174823434386 0.9293434910095277 -0.3026415638127133\n",
      "0.0027754246495246314 0.9998554159266531 0.016776300550317993\n",
      "0.5232662996988514 -0.6866536744849975 -0.5046772343941451\n",
      "0.299669289622962 -0.9540427151055045 -0.0009025580238156073\n",
      "0.14365733595873217 0.16685470502757602 -0.9754599311275685\n",
      "-0.5595778562843411 -0.8268225929146273 0.05689483809761267\n",
      "0.9916613127014255 -0.07279670567692367 0.10634133972201434\n",
      "-0.5845194037184838 -0.04354716862244004 0.8102102880003172\n",
      "0.13833356917118506 0.6182814258920029 -0.7736872120161433\n",
      "0.9362482166981986 -0.35051737491407375 -0.02401763129015182\n",
      "0.9814560690620993 0.0835415417679824 0.17252476720807436\n",
      "-0.5380650666595163 0.6399990893836089 0.5485318127773829\n",
      "-0.28780863815941127 0.41230031876085865 -0.8643926393430936\n",
      "0.20030543832770453 -0.617774098585673 -0.7604162639587644\n",
      "-0.26444198978563405 0.7522571637420216 -0.603472943583243\n",
      "-0.2961965096210565 -0.15661473628557332 -0.942199263461028\n",
      "-0.9425766705092535 0.17633097170375134 -0.28364874163250064\n",
      "-0.8625382809286456 0.4282644480476077 0.2694759292982119\n",
      "-0.941201268766491 -0.04856469171234149 0.3343376173738652\n",
      "-0.29418656900115653 0.9555914064814206 -0.01730105425077016\n",
      "-0.05854732416967609 -0.8627185345827385 -0.5022837255177426\n",
      "0.4037963756812365 0.4497057891106694 -0.7966888917432249\n",
      "-0.9028123339766215 0.41298591654269423 0.11988545515230778\n",
      "-0.43662958353271586 -0.597721066433713 -0.6723720201833148\n",
      "-0.8260795214747114 -0.1857327887314947 -0.5320676229485626\n",
      "0.11267714337178551 -0.12544205293753802 -0.9856815676050709\n",
      "0.5183040141620847 -0.6997387337957564 -0.49165704848947434\n",
      "0.8818508049826452 0.45007345029939827 -0.14061666717375845\n",
      "0.2770631712125514 -0.7677513129212498 0.5777490118255001\n",
      "-0.932796407538983 -0.27317478851757043 -0.23508806222509107\n",
      "0.934460844941151 0.12054013027427657 -0.335041797788471\n",
      "0.2958257431698062 -0.6971628443704165 -0.6530322335898758\n",
      "0.2526704944366108 -0.9315109853339006 -0.2616197726537965\n",
      "-0.7763974855603821 0.5372845111338292 0.32944240545381875\n",
      "0.6173478282146664 -0.7624419118188565 -0.19381431861614784\n",
      "-0.4758842211252455 0.877890966671686 -0.05330721077182077\n",
      "0.13491933500950307 -0.8862176045232317 -0.4431874665124213\n",
      "-0.9267952396871163 0.16250623379833146 0.3385886998557139\n"
     ]
    }
   ],
   "source": [
    "for point in range(start, end):\n",
    "\n",
    "    y = data['controller_right_rot.x'][point]\n",
    "    p = data['controller_right_rot.y'][point]\n",
    "    r = data['controller_right_rot.z'][point]\n",
    "\n",
    "    vx = - np.cos(y) * np.sin(p) * np.sin(r) - np.sin(y) * np.cos(r) \n",
    "    vy =  - np.sin(y) * np.sin(p) * np.sin(r) + np.cos(y) * np.cos(r)\n",
    "    vz = np.cos(p) * np.sin(r)\n",
    "\n",
    "    print(vx, vy, vz)"
   ]
  },
  {
   "cell_type": "code",
   "execution_count": null,
   "metadata": {},
   "outputs": [
    {
     "data": {
      "text/plain": [
       "(-0.7353439134026587, -0.3406624545073839, -0.5858484625828317)"
      ]
     },
     "execution_count": 360,
     "metadata": {},
     "output_type": "execute_result"
    }
   ],
   "source": [
    "y = data['controller_right_rot.x'][end]\n",
    "p = data['controller_right_rot.y'][end]\n",
    "r = data['controller_right_rot.z'][end]\n",
    "\n",
    "vx = - np.cos(y) * np.sin(p) * np.sin(r) - np.sin(y) * np.cos(r) \n",
    "vy =  - np.sin(y) * np.sin(p) * np.sin(r) + np.cos(y) * np.cos(r)\n",
    "vz = np.cos(p) * np.sin(r)\n",
    "\n",
    "(vx, vy, vz)"
   ]
  },
  {
   "cell_type": "code",
   "execution_count": null,
   "metadata": {},
   "outputs": [],
   "source": [
    "yaw = data['controller_right_rot.x']\n",
    "pitch = data['controller_right_rot.y']\n",
    "roll = data['controller_right_rot.z']"
   ]
  },
  {
   "cell_type": "code",
   "execution_count": null,
   "metadata": {},
   "outputs": [],
   "source": [
    "data['racquet_head.x'] = data['controller_right_pos.x']  - np.cos(yaw) * np.sin(pitch) * np.sin(roll) - np.sin(yaw) * np.cos(roll) \n",
    "data['racquet_head.y'] = data['controller_right_pos.y'] - np.sin(yaw) * np.sin(pitch) * np.sin(roll) + np.cos(yaw) * np.cos(roll)\n",
    "data['racquet_head.z'] = data['racquet_head.z'] + np.cos(pitch) * np.sin(roll)"
   ]
  },
  {
   "cell_type": "code",
   "execution_count": null,
   "metadata": {},
   "outputs": [
    {
     "name": "stdout",
     "output_type": "stream",
     "text": [
      "     controller_right_pos.x  racquet_head.x\n",
      "0                 -0.105218       -0.428615\n",
      "1                 -0.110815       -0.798629\n",
      "2                 -0.115712       -1.035955\n",
      "3                 -0.120331       -1.108815\n",
      "4                 -0.124608       -1.090435\n",
      "5                 -0.128247       -0.899571\n",
      "6                 -0.131261       -0.092878\n",
      "7                 -0.133856       -0.349552\n",
      "8                 -0.135337       -1.131021\n",
      "9                 -0.136751       -0.015358\n",
      "10                -0.137006        0.779348\n",
      "11                -0.136466       -0.653163\n",
      "12                -0.135227       -0.666784\n",
      "13                -0.133517        0.677437\n",
      "14                -0.130830        0.069562\n",
      "15                -0.127354       -1.122987\n",
      "16                -0.123440        0.363527\n",
      "17                -0.118846        0.111146\n",
      "18                -0.113292       -0.796391\n",
      "19                -0.107225        0.433817\n",
      "20                -0.100573       -0.769706\n",
      "21                -0.093377        0.006112\n",
      "22                -0.085530        0.809481\n",
      "23                -0.076998        0.755868\n",
      "24                -0.067483        0.750068\n",
      "25                -0.057335        0.785165\n",
      "26                -0.046875        0.766435\n",
      "27                -0.035769        0.685362\n",
      "28                -0.024201       -0.740458\n",
      "29                -0.012130       -0.589074\n",
      "30                 0.000546       -0.045543\n",
      "31                 0.013611       -0.642449\n",
      "32                 0.027489       -0.336680\n",
      "33                 0.042020       -0.035169\n",
      "34                 0.056888       -0.445154\n",
      "35                 0.072027        0.072450\n",
      "36                 0.087287        0.590004\n",
      "37                 0.102836        1.071655\n",
      "38                 0.118683       -0.195476\n",
      "39                 0.135053        0.322956\n",
      "40                 0.151845       -0.290554\n",
      "41                 0.168636       -0.044835\n",
      "42                 0.185388        0.449922\n",
      "43                 0.201984       -0.678498\n",
      "44                 0.218348        0.849883\n",
      "45                 0.234363       -0.734049\n",
      "46                 0.249884        0.732291\n",
      "47                 0.264668       -0.616352\n",
      "48                 0.278733        0.477251\n",
      "49                 0.291421       -0.442975\n",
      "50                 0.303192       -0.410260\n",
      "51                 0.313583       -0.669234\n",
      "52                 0.322636       -0.463379\n",
      "53                 0.330369       -0.335779\n",
      "54                 0.336723       -0.065992\n",
      "55                 0.341520        0.308797\n",
      "56                 0.344403        1.041786\n",
      "57                 0.345269        0.770083\n",
      "58                 0.344048        0.502642\n",
      "59                 0.340433        1.110129\n",
      "60                 0.334446        0.220177\n",
      "61                 0.326396       -0.041038\n",
      "62                 0.316688        1.004825\n",
      "63                 0.305646        1.284370\n",
      "64                 0.287126        0.654830\n",
      "65                 0.264754       -0.363273\n",
      "66                 0.244773       -0.676288\n",
      "67                 0.227301       -0.648079\n",
      "68                 0.208037       -0.422084\n",
      "69                 0.188556       -0.515145\n",
      "70                 0.168691        0.232060\n",
      "71                 0.148001        0.119786\n",
      "72                 0.126623       -0.254265\n",
      "73                 0.104609        0.612619\n",
      "74                 0.081791        0.594385\n",
      "75                 0.058175       -0.625231\n",
      "76                 0.034294        0.891070\n",
      "77                 0.010379       -0.122867\n",
      "78                -0.013280       -0.227484\n",
      "79                -0.036716       -0.464304\n",
      "80                -0.060063       -0.858013\n",
      "81                -0.082674       -1.032975\n",
      "82                -0.104405       -0.881513\n",
      "83                -0.125305       -0.963122\n",
      "84                -0.144936       -0.674718\n",
      "85                -0.163265        0.769005\n",
      "86                -0.180486        0.632119\n",
      "87                -0.196284       -1.037885\n",
      "88                -0.208203        0.760826\n",
      "89                -0.217589        0.684190\n",
      "90                -0.224940        0.307569\n",
      "91                -0.231205       -1.121347\n",
      "92                -0.236558       -0.629646\n",
      "93                -0.239955        0.570008\n",
      "94                -0.240504       -0.842020\n",
      "95                -0.236421       -0.151109\n",
      "96                -0.226877        0.216816\n",
      "97                -0.215263        0.203585\n",
      "98                -0.199065        0.374652\n",
      "99                -0.180835        0.752204\n",
      "100               -0.159150        0.027000\n",
      "101               -0.135617       -1.109590\n",
      "102               -0.110481        0.768711\n",
      "103               -0.082361       -0.347487\n",
      "104               -0.051392       -0.262884\n",
      "105               -0.016644       -0.013868\n",
      "106                0.020814        0.544080\n",
      "107                0.060221        0.359890\n",
      "108                0.100850        0.244507\n",
      "109                0.141286       -0.418292\n",
      "110                0.180809        1.172470\n",
      "111                0.219272       -0.365248\n",
      "112                0.267089        0.405423\n",
      "113                0.318276        1.254524\n",
      "114                0.355473        1.336929\n",
      "115                0.357862       -0.180203\n",
      "116                0.344981        0.057173\n",
      "117                0.321892        0.522197\n",
      "118                0.280819        0.016377\n",
      "119                0.228158       -0.068039\n",
      "120                0.166179       -0.776397\n",
      "121                0.100532       -0.762006\n",
      "122                0.022991       -0.918210\n",
      "123               -0.062320       -0.356506\n",
      "124               -0.152297       -0.210844\n",
      "125               -0.239959        0.163838\n",
      "126               -0.314934       -1.217747\n",
      "127               -0.368535       -0.805165\n",
      "128               -0.398674       -1.224754\n",
      "129               -0.414571       -0.301894\n",
      "130               -0.415885        0.102419\n",
      "131               -0.405837        0.476014\n",
      "132               -0.390750       -0.113687\n",
      "133               -0.373064       -1.305861\n",
      "134               -0.351026        0.583434\n",
      "135               -0.328387       -0.032561\n",
      "136               -0.305663       -0.052993\n",
      "137               -0.283768       -1.060165\n",
      "138               -0.266560        0.350787\n",
      "139               -0.251861       -0.727745\n",
      "140               -0.240411       -0.105492\n",
      "141               -0.232698       -1.159493\n",
      "142               -0.230043       -0.965387\n",
      "143               -0.227858       -1.119678\n",
      "144               -0.228954        0.081164\n",
      "145               -0.231205        0.744358\n",
      "146               -0.235297        0.675743\n",
      "147               -0.239063        0.391684\n",
      "148               -0.243783       -0.097840\n",
      "149               -0.249244       -1.204004\n",
      "150               -0.255369        0.638460\n",
      "151               -0.261247        0.212420\n",
      "152               -0.267488        0.226197\n",
      "153               -0.273636        0.526206\n",
      "154               -0.279457        0.718004\n",
      "155               -0.285137       -0.664685\n",
      "156               -0.291052       -0.714839\n",
      "157               -0.297349       -0.431133\n",
      "158               -0.303939        0.445224\n",
      "159               -0.311062        0.591581\n",
      "160               -0.318054       -1.098214\n",
      "161               -0.325054        0.511175\n",
      "162               -0.331954       -0.778711\n",
      "163               -0.338917        0.053133\n",
      "164               -0.345775       -0.437695\n",
      "165               -0.352625       -1.225610\n",
      "166               -0.359337       -0.765663\n",
      "167               -0.365454       -0.365521\n",
      "168               -0.370870       -1.049616\n",
      "169               -0.375438       -0.041052\n",
      "170               -0.379479       -1.159367\n",
      "171               -0.383544       -0.231318\n",
      "172               -0.387405       -0.392227\n",
      "173               -0.390722       -0.352902\n",
      "174               -0.393175       -0.242107\n",
      "175               -0.395162        0.244054\n",
      "176               -0.397215       -1.133953\n",
      "177               -0.398962       -0.164174\n",
      "178               -0.400057        0.544853\n",
      "179               -0.400294       -1.275056\n",
      "180               -0.400055       -0.453559\n",
      "181               -0.399755        0.593356\n",
      "182               -0.398861       -0.660231\n",
      "183               -0.397136       -1.142105\n",
      "184               -0.394708       -0.111686\n",
      "185               -0.391619       -1.380332\n",
      "186               -0.387657       -0.829159\n",
      "187               -0.382675       -1.207456\n",
      "188               -0.377485       -0.641231\n",
      "189               -0.372446       -1.021299\n",
      "190               -0.366864       -0.488689\n",
      "191               -0.367469       -0.436408\n",
      "192               -0.374261       -0.514654\n"
     ]
    }
   ],
   "source": [
    "print(data[['controller_right_pos.x', 'racquet_head.x']].to_string())"
   ]
  },
  {
   "cell_type": "code",
   "execution_count": null,
   "metadata": {},
   "outputs": [
    {
     "name": "stdout",
     "output_type": "stream",
     "text": [
      "     controller_right_rot.x  controller_right_rot.y  controller_right_rot.z\n",
      "96               358.550700              226.410500               28.735380\n",
      "97                 0.817710              226.904600               27.763950\n",
      "98                 2.518017              226.223800               28.425540\n",
      "99                 3.688553              224.976100               30.202890\n",
      "100                4.220399              223.222200               32.684830\n",
      "101                5.039543              221.782400               34.452260\n",
      "102                7.348401              220.821700               35.370310\n",
      "103               11.218020              220.231000               35.782810\n",
      "104               16.453660              218.907800               35.155980\n",
      "105               21.982130              216.413700               34.575420\n",
      "106               26.425900              212.830900               35.364850\n",
      "107               28.597310              208.867500               37.680460\n",
      "108               30.337580              204.122600               39.062960\n",
      "109               33.969930              197.791500               37.641710\n",
      "110               39.423310              189.622200               34.307440\n",
      "111               45.176180              179.376400               30.400740\n",
      "112               49.818940              166.322600               26.038110\n",
      "113               51.321240              152.214600               22.149770\n",
      "114               51.981580              135.420300               15.891470\n",
      "115               52.880850              115.277000                4.425304\n",
      "116               52.131110               94.753040              350.443800\n",
      "117               49.226050               76.093280              337.580400\n",
      "118               45.554110               60.585140              328.029600\n",
      "119               41.686920               47.445190              322.131500\n",
      "120               37.686360               36.419990              319.036700\n",
      "121               31.433000               26.398250              315.271200\n",
      "122               20.354580               16.026680              307.516300\n",
      "123                9.743650                5.420216              304.761100\n",
      "124                0.278338              354.471400              310.396900\n",
      "125              351.373300              342.616700              321.387000\n",
      "126              343.563200              329.766800              336.271200\n",
      "127              335.732800              317.529800              352.620400\n",
      "128              327.939300              304.018600                7.065865\n",
      "129              323.497600              285.760700               20.304850\n",
      "130              323.252800              266.065200               32.471030\n",
      "131              325.755100              248.919300               44.172740\n",
      "132              329.371500              236.431100               55.552520\n",
      "133              331.571700              226.751700               66.254070\n",
      "134              332.620100              217.952400               76.484580\n",
      "135              334.817900              209.634100               83.375430\n",
      "136              337.681700              202.355900               86.687260\n",
      "137              339.926000              195.529300               88.431900\n",
      "138              341.655300              190.262600               89.425650\n",
      "139              341.745700              186.867200               89.920970\n",
      "140              341.163500              184.246800               89.401370\n",
      "141              340.664200              182.281800               88.310880\n"
     ]
    }
   ],
   "source": [
    "print(data[['controller_right_rot.x', 'controller_right_rot.y', 'controller_right_rot.z']].iloc[start:end].to_string())"
   ]
  },
  {
   "cell_type": "code",
   "execution_count": null,
   "metadata": {},
   "outputs": [
    {
     "name": "stdout",
     "output_type": "stream",
     "text": [
      "96 142\n"
     ]
    }
   ],
   "source": [
    "print(start, end)"
   ]
  },
  {
   "cell_type": "code",
   "execution_count": null,
   "metadata": {},
   "outputs": [
    {
     "name": "stdout",
     "output_type": "stream",
     "text": [
      "96     226.410500\n",
      "97     226.904600\n",
      "98     226.223800\n",
      "99     224.976100\n",
      "100    223.222200\n",
      "101    221.782400\n",
      "102    220.821700\n",
      "103    220.231000\n",
      "104    218.907800\n",
      "105    216.413700\n",
      "106    212.830900\n",
      "107    208.867500\n",
      "108    204.122600\n",
      "109    197.791500\n",
      "110    189.622200\n",
      "111    179.376400\n",
      "112    166.322600\n",
      "113    152.214600\n",
      "114    135.420300\n",
      "115    115.277000\n",
      "116     94.753040\n",
      "117     76.093280\n",
      "118     60.585140\n",
      "119     47.445190\n",
      "120     36.419990\n",
      "121     26.398250\n",
      "122     16.026680\n",
      "123      5.420216\n",
      "124    354.471400\n",
      "125    342.616700\n",
      "126    329.766800\n",
      "127    317.529800\n",
      "128    304.018600\n",
      "129    285.760700\n",
      "130    266.065200\n",
      "131    248.919300\n",
      "132    236.431100\n",
      "133    226.751700\n",
      "134    217.952400\n",
      "135    209.634100\n",
      "136    202.355900\n",
      "137    195.529300\n",
      "138    190.262600\n",
      "139    186.867200\n",
      "140    184.246800\n",
      "141    182.281800\n"
     ]
    }
   ],
   "source": [
    "print(data['controller_right_rot.y'][start:end].to_string())"
   ]
  },
  {
   "cell_type": "code",
   "execution_count": null,
   "metadata": {},
   "outputs": [
    {
     "name": "stdout",
     "output_type": "stream",
     "text": [
      "(-0.4157858, 0.4973601)\n",
      "(-0.3527169, 0.3221071)\n"
     ]
    }
   ],
   "source": [
    "print((data['headset_pos.x'][start], data['headset_pos.z'][start]))\n",
    "print((data['headset_pos.x'][end], data['headset_pos.z'][end]))"
   ]
  },
  {
   "cell_type": "code",
   "execution_count": null,
   "metadata": {},
   "outputs": [
    {
     "name": "stdout",
     "output_type": "stream",
     "text": [
      "(-0.4463193, -0.03785687)\n",
      "(-0.1404012, 0.1554287)\n"
     ]
    }
   ],
   "source": [
    "print((data['controller_right_pos.x'][start], data['controller_right_pos.z'][start]))\n",
    "print((data['controller_right_pos.x'][end], data['controller_right_pos.z'][end]))"
   ]
  },
  {
   "cell_type": "code",
   "execution_count": 23,
   "metadata": {},
   "outputs": [],
   "source": [
    "import pandas as pd"
   ]
  },
  {
   "cell_type": "code",
   "execution_count": 58,
   "metadata": {},
   "outputs": [
    {
     "name": "stdout",
     "output_type": "stream",
     "text": [
      "325.46474263753055\n"
     ]
    }
   ],
   "source": [
    "filepath = \"../Data/Combined/FHD_52.csv\"\n",
    "data = pd.read_csv(filepath, index_col=False)\n",
    "prediction = simple_stat_classifier_2(filepath)\n",
    "start, end = get_start_end_after_classification(data, prediction)\n",
    "\n",
    "res = 0\n",
    "for i in range(start, end-2):\n",
    "    #vec1 = (data['controller_right_pos.x'][i] - data['headset_pos.x'][i], data['controller_right_pos.z'][i] - data['headset_pos.z'][i], 0)\n",
    "    #vec2 = (data['controller_right_pos.x'][i+1] - data['headset_pos.x'][i+1], data['controller_right_pos.z'][i+1] - data['headset_pos.z'][i+1], 0)\n",
    "\n",
    "    vec1 = (data['controller_right_pos.x'][i] - data['headset_pos.x'][start], data['controller_right_pos.z'][i] - data['headset_pos.z'][start], 0)\n",
    "    vec2 = (data['controller_right_pos.x'][i+1] - data['headset_pos.x'][start], data['controller_right_pos.z'][i+1] - data['headset_pos.z'][start], 0)\n",
    "\n",
    "    dot = vec1[0] * vec2[0] + vec1[1] * vec2[1]\n",
    "    mag1 = (vec1[0] ** 2 + vec1[1] ** 2) ** 0.5\n",
    "    mag2 = (vec2[0] ** 2 + vec2[1] ** 2) ** 0.5\n",
    "\n",
    "    if prediction == \"FHD\":\n",
    "        if np.cross(vec1, vec2)[2] > 0:\n",
    "            res += math.acos(dot/mag1/mag2)\n",
    "    elif prediction == \"BHD\":\n",
    "        if np.cross(vec1, vec2)[2] < 0:\n",
    "            res += math.acos(dot/mag1/mag2)\n",
    "    else:\n",
    "        res += math.acos(dot/mag1/mag2)\n",
    "\n",
    "    # X.Y = |x||y|cos(angle)\n",
    "    # angle = arccos[(X.Y)/(|x||y|)]\n",
    "    #print(np.cross(vec1, vec2))\n",
    "\n",
    "print(res * 180 / math.pi)"
   ]
  },
  {
   "cell_type": "code",
   "execution_count": null,
   "metadata": {},
   "outputs": [
    {
     "name": "stdout",
     "output_type": "stream",
     "text": [
      "(-0.03261396, -0.7293273)\n",
      "(0.02082731, -0.3959379)\n"
     ]
    }
   ],
   "source": [
    "print((data['headset_pos.x'][end], data['headset_pos.z'][end]))\n",
    "print((data['controller_right_pos.x'][end], data['controller_right_pos.z'][end]))"
   ]
  },
  {
   "cell_type": "code",
   "execution_count": null,
   "metadata": {},
   "outputs": [
    {
     "name": "stdout",
     "output_type": "stream",
     "text": [
      "(0.23239130000000002, -0.09658070000000007, -0.6436957)\n"
     ]
    }
   ],
   "source": [
    "filepath = \"../Data/Combined/SRV_15.csv\"\n",
    "data = pd.read_csv(filepath, index_col=False)\n",
    "\n",
    "prediction = simple_stat_classifier_2(filepath)\n",
    "start, end = get_start_end_after_classification(data, prediction)\n",
    "\n",
    "print((data['controller_right_pos.x'][end] - data['headset_pos.x'][end], data['controller_right_pos.z'][end] - data['headset_pos.z'][end], data['controller_right_pos.y'][end] - data['headset_pos.y'][end]))"
   ]
  },
  {
   "cell_type": "code",
   "execution_count": null,
   "metadata": {},
   "outputs": [
    {
     "data": {
      "text/plain": [
       "0.54600852"
      ]
     },
     "execution_count": 572,
     "metadata": {},
     "output_type": "execute_result"
    }
   ],
   "source": [
    "data['headset_pos.y'][end] - data['controller_right_pos.y'][end]\n"
   ]
  },
  {
   "cell_type": "code",
   "execution_count": null,
   "metadata": {},
   "outputs": [
    {
     "data": {
      "text/plain": [
       "0.3229801"
      ]
     },
     "execution_count": 573,
     "metadata": {},
     "output_type": "execute_result"
    }
   ],
   "source": [
    "max((data[\"controller_right_pos.y\"] - data[\"headset_pos.y\"]))"
   ]
  },
  {
   "cell_type": "code",
   "execution_count": null,
   "metadata": {},
   "outputs": [],
   "source": [
    "def get_follow_through(filepath, prediction=None, start_end = None):\n",
    "    data = pd.read_csv(filepath, index_col=False)\n",
    "\n",
    "    if not prediction:\n",
    "        prediction = simple_stat_classifier_2(filepath)\n",
    "    if not start_end:\n",
    "        _, end = get_start_end_after_classification(data, prediction)\n",
    "    else:\n",
    "        _, end = start_end\n",
    "\n",
    "    tup = (data['controller_right_pos.x'][end] - data['headset_pos.x'][end], data['controller_right_pos.z'][end] - data['headset_pos.z'][end], data['controller_right_pos.y'][end] - data['headset_pos.y'][end])\n",
    "\n",
    "    if prediction == \"FHD\":\n",
    "        success = True\n",
    "        if tup[2] < -0.2: # Checks height of controller vs. height of headset\n",
    "            print(\"Try to follow-through a bit higher, over your shoulder!\")\n",
    "            success = False\n",
    "        if tup[1] > 0: # Checks \"forward depth\" of controller vs. headset\n",
    "            print(\"Try to end your swing further back!\")\n",
    "            success = False\n",
    "        if tup[0] > 0: # Checks left/right position of contrller vs. headset\n",
    "            print(\"Make sure to complete your follow-through on the left side of your body!\")\n",
    "            success = False\n",
    "        if success:\n",
    "            print(\"Nice follow through!\")\n",
    "\n",
    "    if prediction == \"BHD\":\n",
    "        success = True\n",
    "        if tup[2] < -0.2: # Checks height of controller vs. height of headset\n",
    "            print(\"Try to follow-through a bit higher, over your shoulder!\")\n",
    "            success = False\n",
    "        if tup[1] > 0: # Checks \"forward depth\" of controller vs. headset\n",
    "            print(\"Try to end your swing further back!\")\n",
    "            success = False\n",
    "        if tup[0] < 0: # Checks left/right position of contrller vs. headset\n",
    "            print(\"Make sure to complete your follow-through on the right side of your body!\")\n",
    "            success = False\n",
    "        if success:\n",
    "            print(\"Nice follow through!\")\n",
    "\n",
    "    if prediction == \"SRV\":\n",
    "        success = True\n",
    "        if -1 * tup[2] < max(data[\"controller_right_pos.y\"] - data[\"headset_pos.y\"]):\n",
    "            # Checks height of controller vs headset, makes sure difference is\n",
    "            # at least as much as difference during peak of serve\n",
    "            print(\"Try to finish a bit lower, near your waist!\")\n",
    "            success = False\n",
    "        if tup[1] > 0: # Checks \"forward depth\" of controller vs. headset\n",
    "            print(\"Try to end your swing further back!\")\n",
    "            success = False\n",
    "        if tup[0] < 0: # Checks left/right position of contrller vs. headset\n",
    "            print(\"Make sure to complete your follow-through on the left side of your body!\")\n",
    "            success = False\n",
    "        if success:\n",
    "            print(\"Nice follow through!\")\n",
    "    \n",
    "    if prediction == \"VOL\":\n",
    "        success = True\n",
    "        if tup[2] > 0: # Checks height of controller vs. height of headset\n",
    "            print(\"Try to keep your hand below your head in a volley!!\")\n",
    "            success = False\n",
    "        if tup[1] < 0: # Checks \"forward depth\" of controller vs. headset\n",
    "            print(\"Try to end your volley in front of your body!\")\n",
    "            success = False\n",
    "        #if tup[0] < 0: # Checks left/right position of contrller vs. headset\n",
    "        #    print(\"Make sure to finish on the right side of your body!\")\n",
    "        #    success = False\n",
    "        if success:\n",
    "            print(\"Nice shot!\")\n"
   ]
  },
  {
   "cell_type": "code",
   "execution_count": null,
   "metadata": {},
   "outputs": [
    {
     "name": "stdout",
     "output_type": "stream",
     "text": [
      "Make sure to finish on the right side of your body!\n"
     ]
    }
   ],
   "source": [
    "filepath = \"../Data/Combined/VOL_05.csv\"\n",
    "data = pd.read_csv(filepath, index_col=False)\n",
    "prediction = simple_stat_classifier_2(filepath)\n",
    "start, end = get_start_end_after_classification(data, prediction)\n",
    "\n",
    "get_follow_through(filepath, prediction=prediction, start_end = (start, end))"
   ]
  },
  {
   "cell_type": "code",
   "execution_count": null,
   "metadata": {},
   "outputs": [
    {
     "name": "stdout",
     "output_type": "stream",
     "text": [
      "(-0.20295658, 0.4413993999999999, -0.6343442)\n"
     ]
    }
   ],
   "source": [
    "print((data['controller_right_pos.x'][end] - data['headset_pos.x'][end], data['controller_right_pos.z'][end] - data['headset_pos.z'][end], data['controller_right_pos.y'][end] - data['headset_pos.y'][end]))"
   ]
  },
  {
   "cell_type": "code",
   "execution_count": null,
   "metadata": {},
   "outputs": [
    {
     "data": {
      "text/plain": [
       "0.5284434400000001"
      ]
     },
     "execution_count": 621,
     "metadata": {},
     "output_type": "execute_result"
    }
   ],
   "source": [
    "max(data[\"controller_right_pos.y\"] - data[\"headset_pos.y\"])"
   ]
  },
  {
   "cell_type": "code",
   "execution_count": null,
   "metadata": {},
   "outputs": [
    {
     "data": {
      "text/plain": [
       "264.812"
      ]
     },
     "execution_count": 639,
     "metadata": {},
     "output_type": "execute_result"
    }
   ],
   "source": [
    "data['controller_right_rot.z'][end]"
   ]
  },
  {
   "cell_type": "code",
   "execution_count": null,
   "metadata": {},
   "outputs": [
    {
     "name": "stdout",
     "output_type": "stream",
     "text": [
      "-0.4263477190789411 0.3596916927833782 -0.8299695829238637\n"
     ]
    }
   ],
   "source": [
    "filepath = \"../Data/Combined/VOL_40.csv\"\n",
    "data = pd.read_csv(filepath, index_col=False)\n",
    "prediction = simple_stat_classifier_2(filepath)\n",
    "start, end = get_start_end_after_classification(data, prediction)\n",
    "\n",
    "y = data['controller_right_rot.y'][end] * math.pi / 180\n",
    "p = data['controller_right_rot.x'][end] * math.pi / 180\n",
    "r = data['controller_right_rot.z'][end] * math.pi / 180\n",
    "\n",
    "vx = - np.cos(y) * np.sin(p) * np.sin(r) - np.sin(y) * np.cos(r) \n",
    "vy =  - np.sin(y) * np.sin(p) * np.sin(r) + np.cos(y) * np.cos(r)\n",
    "vz = np.cos(p) * np.sin(r)\n",
    "\n",
    "print(vx, vy, vz)"
   ]
  }
 ],
 "metadata": {
  "kernelspec": {
   "display_name": "base",
   "language": "python",
   "name": "python3"
  },
  "language_info": {
   "codemirror_mode": {
    "name": "ipython",
    "version": 3
   },
   "file_extension": ".py",
   "mimetype": "text/x-python",
   "name": "python",
   "nbconvert_exporter": "python",
   "pygments_lexer": "ipython3",
   "version": "3.9.12"
  }
 },
 "nbformat": 4,
 "nbformat_minor": 2
}

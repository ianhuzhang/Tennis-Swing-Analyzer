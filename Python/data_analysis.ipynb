{
 "cells": [
  {
   "cell_type": "code",
   "execution_count": 267,
   "metadata": {},
   "outputs": [],
   "source": [
    "import pandas as pd\n",
    "import numpy as np\n",
    "from sklearn import metrics\n",
    "from data_analysis import get_start, get_start_end"
   ]
  },
  {
   "cell_type": "code",
   "execution_count": 268,
   "metadata": {},
   "outputs": [],
   "source": [
    "filepath = \"../Data/Combined/FHD_55.csv\"\n",
    "data = pd.read_csv(filepath, index_col=False)"
   ]
  },
  {
   "cell_type": "code",
   "execution_count": 269,
   "metadata": {},
   "outputs": [],
   "source": [
    "#for val in data:\n",
    "#    if val != 'time':\n",
    "#        data[val] = (data[val] - min(data[val])) / (max(data[val]) - min(data[val]))"
   ]
  },
  {
   "cell_type": "code",
   "execution_count": 270,
   "metadata": {},
   "outputs": [],
   "source": [
    "data['controller_right_vel'] = (data['controller_right_vel.x'] ** 2 + data['controller_right_vel.y'] ** 2 + data['controller_right_vel.z'] ** 2) ** (1/2)"
   ]
  },
  {
   "cell_type": "code",
   "execution_count": 271,
   "metadata": {},
   "outputs": [],
   "source": [
    "idx_max = -1\n",
    "mx = -float('inf')\n",
    "for i in range(len(data['controller_right_vel'])):\n",
    "    if float(data['controller_right_vel'][i]) > mx:\n",
    "        mx = float(data['controller_right_vel'][i])\n",
    "        idx_max = i"
   ]
  },
  {
   "cell_type": "code",
   "execution_count": 272,
   "metadata": {},
   "outputs": [
    {
     "data": {
      "text/plain": [
       "(10.075528058846395, 103)"
      ]
     },
     "execution_count": 272,
     "metadata": {},
     "output_type": "execute_result"
    }
   ],
   "source": [
    "mx, idx_max"
   ]
  },
  {
   "cell_type": "code",
   "execution_count": 273,
   "metadata": {},
   "outputs": [
    {
     "name": "stdout",
     "output_type": "stream",
     "text": [
      "-11.74106\n",
      "0.1610769\n",
      "-2.119427\n"
     ]
    }
   ],
   "source": [
    "filepath = \"../Data/Combined/SRV_50.csv\"\n",
    "data = pd.read_csv(filepath, index_col=False)\n",
    "\n",
    "data['controller_right_vel'] = (data['controller_right_vel.x'] ** 2 + data['controller_right_vel.y'] ** 2 + data['controller_right_vel.z'] ** 2) ** (1/2)\n",
    "data['controller_right_rel_headset'] = (data['headset_pos.z']) - (data['controller_right_pos.z'])\n",
    "\n",
    "\n",
    "idx_max = -1\n",
    "mx = -float('inf')\n",
    "for i in range(len(data['controller_right_vel'])):\n",
    "    if float(data['controller_right_vel'][i]) > mx:\n",
    "        mx = float(data['controller_right_vel'][i])\n",
    "        idx_max = i\n",
    "\n",
    "print(data['controller_right_vel.y'][idx_max])\n",
    "print(data['controller_right_vel.x'][idx_max])\n",
    "print(data['controller_left_vel.z'][idx_max])"
   ]
  },
  {
   "cell_type": "code",
   "execution_count": 274,
   "metadata": {},
   "outputs": [],
   "source": [
    "def simple_stat_classifier(filepath):\n",
    "    data = pd.read_csv(filepath, index_col=False)\n",
    "    data['controller_right_vel'] = (data['controller_right_vel.x'] ** 2 + data['controller_right_vel.y'] ** 2 + data['controller_right_vel.z'] ** 2) ** (1/2)\n",
    "\n",
    "    idx_max = -1\n",
    "    max = -float('inf')\n",
    "    for i in range(len(data['controller_right_vel'])):\n",
    "        if float(data['controller_right_vel'][i]) > max:\n",
    "            max = float(data['controller_right_vel'][i])\n",
    "            idx_max = i\n",
    "\n",
    "    if float(data['controller_right_vel.y'][idx_max]) > 0:\n",
    "        # BHD or FHD\n",
    "        if float(data['controller_right_vel.x'][idx_max]) < 0:\n",
    "            return \"FHD\"\n",
    "        else:\n",
    "            return \"BHD\"\n",
    "    else:\n",
    "        # SRV or VOL\n",
    "        if float(data['controller_right_vel.y'][idx_max]) < -3.5: # Really wouldn't want to use this part...\n",
    "            return \"SRV\"\n",
    "        else:\n",
    "            return \"VOL\""
   ]
  },
  {
   "cell_type": "code",
   "execution_count": 275,
   "metadata": {},
   "outputs": [
    {
     "data": {
      "text/plain": [
       "'BHD'"
      ]
     },
     "execution_count": 275,
     "metadata": {},
     "output_type": "execute_result"
    }
   ],
   "source": [
    "simple_stat_classifier(\"../Data/Combined/BHD_13.csv\")"
   ]
  },
  {
   "cell_type": "markdown",
   "metadata": {},
   "source": [
    "Preliminary Data Analysis seems to show that if we just take the controller_right_vel.y datapoint at the highest controller velocity, we can differentiate between serves and FHD/BHD/VOL. \n",
    "\n",
    "SRV is highly negative. (controller moving downwards)\n",
    "\n",
    "FHD, BHD, are highly positive. (controller moving upwards)\n",
    "\n",
    "VOL is slightly negative. (controller moving downwards)\n",
    "\n",
    "Then out of FHD, BHD, we can check controller_right_vel.x\n",
    " - If > 0, BHD. (Controller moving to the right)\n",
    " - If < 0, FHD. (Controller moving to the left)\n",
    "\n",
    "But magnitude is dependent on person, so we might not be able to use that... Might only be able to use +/-"
   ]
  },
  {
   "cell_type": "code",
   "execution_count": 276,
   "metadata": {},
   "outputs": [],
   "source": [
    "def test_accuracy(classifier, errors=False):\n",
    "    \"\"\"\n",
    "    Function to test how accurate your classifier is. Takes a classifier \n",
    "    (a function) that takes a filepath, and returns a string, either \n",
    "    'BHD', 'FHD', 'VOL', or 'SRV'. \n",
    "\n",
    "    Also can specifiy whether to print errors.\n",
    "\n",
    "    Returns accuracy score of the classifier. \n",
    "    \"\"\"\n",
    "    actual = []\n",
    "    predicted = []\n",
    "    csv_number = []\n",
    "    for action in ['BHD','FHD','VOL','SRV']:\n",
    "        for i in range(1,91):\n",
    "            filepath = \"../Data/Combined/\" + action + \"_\" + str(i).zfill(2) + \".csv\"\n",
    "            actual.append(action)\n",
    "            predicted.append(classifier(filepath))\n",
    "            csv_number.append(i)\n",
    "    \n",
    "    if errors:\n",
    "        for i in range(len(actual)):\n",
    "            if actual[i] != predicted[i]:\n",
    "                print(actual[i], predicted[i], csv_number[i])\n",
    "    \n",
    "    return metrics.accuracy_score(actual, predicted)"
   ]
  },
  {
   "cell_type": "code",
   "execution_count": 277,
   "metadata": {},
   "outputs": [],
   "source": [
    "def simple_stat_classifier_2(filepath):\n",
    "    \"\"\"\n",
    "    Takes a filepath containing a sensor trace. First trims data according to\n",
    "    isolate the swing action. Then, based on trimmed csv file, runs statistical\n",
    "    classifier to determine swing type.\n",
    "\n",
    "    Returns string, determining guessed swing type.\n",
    "    \"\"\"\n",
    "    data = pd.read_csv(filepath, index_col=False)\n",
    "    data['controller_right_vel'] = (data['controller_right_vel.x'] ** 2 + data['controller_right_vel.y'] ** 2 + data['controller_right_vel.z'] ** 2) ** (1/2)\n",
    "\n",
    "    start, end = get_start_end(data) # Determine start and end of swing\n",
    "    data = data[start:end]\n",
    "    \n",
    "    idx_max = -1\n",
    "    mx = -float('inf') # Finding moment of maximum velocity\n",
    "    for i in range(len(data['controller_right_vel'])):\n",
    "        i += start\n",
    "        if float(data['controller_right_vel'][i]) > mx:\n",
    "            mx = float(data['controller_right_vel'][i])\n",
    "            idx_max = i\n",
    "\n",
    "    if float(data['controller_right_vel.y'][idx_max]) > 0: # If swing moves upwards\n",
    "        # BHD or FHD\n",
    "        if float(data['controller_right_vel.x'][idx_max]) < 0: # If swing moves left/right\n",
    "            return \"FHD\"\n",
    "        else:\n",
    "            return \"BHD\"\n",
    "    else:\n",
    "        # SRV or VOL    # Finding peak of controller, relative to headset\n",
    "        if max((data['controller_right_pos.y'] - data['headset_pos.y'])) > 0.2: # 0.2 may need to be normalized\n",
    "        #if max((data['controller_right_pos.y'] - data['headset_pos.y'])) > 0: # This works for Ian/Lucien, but gets Jason wrong every single time lol\n",
    "            return \"SRV\"\n",
    "        else:\n",
    "            return \"VOL\""
   ]
  },
  {
   "cell_type": "markdown",
   "metadata": {},
   "source": [
    "TESTING BELOW"
   ]
  },
  {
   "cell_type": "code",
   "execution_count": 278,
   "metadata": {},
   "outputs": [],
   "source": [
    "filepath = \"../Data/Combined/SRV_57.csv\"\n",
    "data = pd.read_csv(filepath, index_col=False)\n",
    "\n",
    "data['controller_right_vel'] = (data['controller_right_vel.x'] ** 2 + data['controller_right_vel.y'] ** 2 + data['controller_right_vel.z'] ** 2) ** (1/2)\n",
    "\n",
    "idx_max = -1\n",
    "mx = -float('inf')\n",
    "for i in range(len(data['controller_right_vel'])):\n",
    "    if float(data['controller_right_vel'][i]) > mx:\n",
    "        mx = float(data['controller_right_vel'][i])\n",
    "        idx_max = i"
   ]
  },
  {
   "cell_type": "code",
   "execution_count": 279,
   "metadata": {},
   "outputs": [
    {
     "data": {
      "text/plain": [
       "-0.40462167"
      ]
     },
     "execution_count": 279,
     "metadata": {},
     "output_type": "execute_result"
    }
   ],
   "source": [
    "s = get_start(data)\n",
    "data['headset_pos.y'][s] - data['controller_right_pos.y'][s]"
   ]
  },
  {
   "cell_type": "code",
   "execution_count": 280,
   "metadata": {},
   "outputs": [
    {
     "data": {
      "text/plain": [
       "0.015195051647058843"
      ]
     },
     "execution_count": 280,
     "metadata": {},
     "output_type": "execute_result"
    }
   ],
   "source": [
    "data['headset_pos.y'].mean()"
   ]
  },
  {
   "cell_type": "code",
   "execution_count": 281,
   "metadata": {},
   "outputs": [
    {
     "data": {
      "text/plain": [
       "0.9805555555555555"
      ]
     },
     "execution_count": 281,
     "metadata": {},
     "output_type": "execute_result"
    }
   ],
   "source": [
    "test_accuracy(simple_stat_classifier)"
   ]
  },
  {
   "cell_type": "code",
   "execution_count": 284,
   "metadata": {},
   "outputs": [
    {
     "data": {
      "text/plain": [
       "0.9944444444444445"
      ]
     },
     "execution_count": 284,
     "metadata": {},
     "output_type": "execute_result"
    }
   ],
   "source": [
    "test_accuracy(simple_stat_classifier_2)"
   ]
  },
  {
   "cell_type": "code",
   "execution_count": 312,
   "metadata": {},
   "outputs": [],
   "source": [
    "def get_start_end_after_classification(data, swing):\n",
    "    \"\"\"\n",
    "    Another preliminary Function to determine start and end indices for a given FHD\n",
    "    or BHD sensor trace.\n",
    "\n",
    "    Returns tuple, of indices at which start and end of swing are estimated\n",
    "    to be.\n",
    "    \"\"\"\n",
    "    start = 0\n",
    "    end = len(data[\"controller_right_vel.z\"])\n",
    "\n",
    "    data[\"controller_right_vel\"] = (\n",
    "        data[\"controller_right_vel.x\"] ** 2\n",
    "        + data[\"controller_right_vel.y\"] ** 2\n",
    "        + data[\"controller_right_vel.z\"] ** 2\n",
    "    ) ** (1 / 2)\n",
    "\n",
    "    pos = -1\n",
    "    neg = -1\n",
    "    min = float(\"inf\")\n",
    "    max = -float(\"inf\")\n",
    "    apex = -1\n",
    "    max_apex = -float(\"inf\")\n",
    "\n",
    "    for i in range(\n",
    "        len(data[\"controller_right_vel\"])\n",
    "    ):  # Finding moment of highest Velocity\n",
    "        if float(data[\"controller_right_vel\"][i]) > max_apex:\n",
    "            apex = i\n",
    "            max_apex = data[\"controller_right_vel\"][i]\n",
    "\n",
    "    for i in range(apex):\n",
    "        if (\n",
    "            float(data[\"controller_right_vel.z\"][i]) > max\n",
    "        ):  # Finding moment of highest velocity forwards, up to apex\n",
    "            max = float(data[\"controller_right_vel.z\"][i])\n",
    "            pos = i\n",
    "    for i in range(\n",
    "        apex, len(data[\"controller_right_vel.z\"])\n",
    "    ):  # Finding moment of highest velocity backwards, after apex\n",
    "        if float(data[\"controller_right_vel.z\"][i]) < min:\n",
    "            min = float(data[\"controller_right_vel.z\"][i])\n",
    "            neg = i\n",
    "\n",
    "    for i in range(pos, 0, -1):  \n",
    "        # Search backwards from moment of highest velocity forwards. Finds moment when z-velocity becomes significant.\n",
    "        if (\n",
    "            data[\"controller_right_vel.z\"][i] >= 0.2\n",
    "            and data[\"controller_right_vel.z\"][i - 1] < 0.2\n",
    "        ):\n",
    "            start = i\n",
    "            break\n",
    "\n",
    "    if (\n",
    "        swing != 'VOL'\n",
    "    ):  \n",
    "        for i in range(\n",
    "            neg, len(data[\"controller_right_vel.z\"]) - 1\n",
    "        ):  # Search forwards from moment of highest velocity backwards. Finds moment when z-velocity becomes insignificant.\n",
    "            if (\n",
    "                data[\"controller_right_vel.z\"][i] <= -0.2\n",
    "                and data[\"controller_right_vel.z\"][i + 1] > -0.2\n",
    "            ):\n",
    "                end = i + 1\n",
    "                break\n",
    "\n",
    "    else:\n",
    "        for i in range(\n",
    "            pos, len(data[\"controller_right_vel.z\"]) - 1\n",
    "        ):  # Search forwards from moment of highest velocity forwards. Finds moment when z-velocity becomes insignificant.\n",
    "            if (\n",
    "                data[\"controller_right_vel.z\"][i] >= 0.2\n",
    "                and data[\"controller_right_vel.z\"][i + 1] < 0.2\n",
    "            ):\n",
    "                end = i + 1\n",
    "                break\n",
    "\n",
    "    return (start, end)"
   ]
  },
  {
   "cell_type": "code",
   "execution_count": 313,
   "metadata": {},
   "outputs": [
    {
     "name": "stdout",
     "output_type": "stream",
     "text": [
      "SRV\n"
     ]
    },
    {
     "data": {
      "text/plain": [
       "(73, 124)"
      ]
     },
     "execution_count": 313,
     "metadata": {},
     "output_type": "execute_result"
    }
   ],
   "source": [
    "filepath = \"../Data/Combined/SRV_85.csv\"\n",
    "data = pd.read_csv(filepath, index_col=False)\n",
    "\n",
    "prediction = simple_stat_classifier_2(filepath)\n",
    "\n",
    "print(prediction)\n",
    "\n",
    "get_start_end_after_classification(data, prediction)"
   ]
  },
  {
   "cell_type": "code",
   "execution_count": 314,
   "metadata": {},
   "outputs": [
    {
     "name": "stdout",
     "output_type": "stream",
     "text": [
      "0     -0.185805\n",
      "1     -0.163745\n",
      "2     -0.127609\n",
      "3     -0.074936\n",
      "4     -0.015909\n",
      "5      0.058024\n",
      "6      0.123552\n",
      "7      0.194110\n",
      "8      0.284671\n",
      "9      0.392398\n",
      "10     0.498256\n",
      "11     0.591574\n",
      "12     0.671458\n",
      "13     0.733913\n",
      "14     0.767198\n",
      "15     0.801241\n",
      "16     0.816092\n",
      "17     0.820441\n",
      "18     0.804614\n",
      "19     0.762595\n",
      "20     0.695290\n",
      "21     0.611684\n",
      "22     0.528847\n",
      "23     0.414515\n",
      "24     0.254286\n",
      "25     0.104777\n",
      "26    -0.084616\n",
      "27    -0.280297\n",
      "28    -0.476775\n",
      "29    -0.681022\n",
      "30    -0.898144\n",
      "31    -1.154065\n",
      "32    -1.362952\n",
      "33    -1.530531\n",
      "34    -1.660454\n",
      "35    -1.776302\n",
      "36    -1.893140\n",
      "37    -2.014106\n",
      "38    -2.126556\n",
      "39    -2.193530\n",
      "40    -2.242550\n",
      "41    -2.273883\n",
      "42    -2.293757\n",
      "43    -2.283906\n",
      "44    -2.226465\n",
      "45    -2.126550\n",
      "46    -2.009040\n",
      "47    -1.877243\n",
      "48    -1.749099\n",
      "49    -1.602072\n",
      "50    -1.450269\n",
      "51    -1.311684\n",
      "52    -1.192594\n",
      "53    -1.091935\n",
      "54    -0.985491\n",
      "55    -0.891710\n",
      "56    -0.820332\n",
      "57    -0.752199\n",
      "58    -0.691649\n",
      "59    -0.623346\n",
      "60    -0.566401\n",
      "61    -0.531341\n",
      "62    -0.515560\n",
      "63    -0.529478\n",
      "64    -0.557312\n",
      "65    -0.574555\n",
      "66    -0.576564\n",
      "67    -0.539860\n",
      "68    -0.456312\n",
      "69    -0.341914\n",
      "70    -0.201758\n",
      "71    -0.045688\n",
      "72     0.121958\n",
      "73     0.297264\n",
      "74     0.471523\n",
      "75     0.612857\n",
      "76     0.775703\n",
      "77     0.977042\n",
      "78     1.289289\n",
      "79     1.641599\n",
      "80     2.052276\n",
      "81     2.520486\n",
      "82     3.032956\n",
      "83     3.566212\n",
      "84     4.127002\n",
      "85     4.714569\n",
      "86     5.224869\n",
      "87     5.498197\n",
      "88     5.582209\n",
      "89     5.586074\n",
      "90     5.448888\n",
      "91     4.726468\n",
      "92     3.721106\n",
      "93     2.706090\n",
      "94     1.765827\n",
      "95     0.915177\n",
      "96    -0.083208\n",
      "97    -1.077291\n",
      "98    -1.969394\n",
      "99    -2.672778\n",
      "100   -3.258331\n",
      "101   -3.621341\n",
      "102   -3.796707\n",
      "103   -3.839116\n",
      "104   -3.832525\n",
      "105   -3.791339\n",
      "106   -3.688442\n",
      "107   -3.539120\n",
      "108   -3.365853\n",
      "109   -3.125665\n",
      "110   -2.909084\n",
      "111   -2.644615\n",
      "112   -2.377196\n",
      "113   -2.117254\n",
      "114   -1.871188\n",
      "115   -1.634771\n",
      "116   -1.412663\n",
      "117   -1.208745\n",
      "118   -1.021580\n",
      "119   -0.852022\n",
      "120   -0.717392\n",
      "121   -0.557055\n",
      "122   -0.430540\n",
      "123   -0.310694\n",
      "124   -0.198132\n",
      "125   -0.082890\n",
      "126   -0.007297\n",
      "127    0.077357\n",
      "128    0.140536\n",
      "129    0.200403\n",
      "130    0.254933\n",
      "131    0.324004\n",
      "132    0.387896\n",
      "133    0.439375\n",
      "134    0.480064\n",
      "135    0.519666\n",
      "136    0.564731\n",
      "137    0.611388\n",
      "138    0.659695\n",
      "139    0.715608\n",
      "140    0.767710\n",
      "141    0.837902\n",
      "142    0.905663\n",
      "143    0.978018\n",
      "144    1.050583\n",
      "145    1.109096\n",
      "146    1.172088\n",
      "147    1.238106\n",
      "148    1.311000\n",
      "149    1.378935\n",
      "150    1.420541\n"
     ]
    }
   ],
   "source": [
    "print(data['controller_right_vel.z'].to_string())"
   ]
  }
 ],
 "metadata": {
  "kernelspec": {
   "display_name": "base",
   "language": "python",
   "name": "python3"
  },
  "language_info": {
   "codemirror_mode": {
    "name": "ipython",
    "version": 3
   },
   "file_extension": ".py",
   "mimetype": "text/x-python",
   "name": "python",
   "nbconvert_exporter": "python",
   "pygments_lexer": "ipython3",
   "version": "3.9.12"
  }
 },
 "nbformat": 4,
 "nbformat_minor": 2
}

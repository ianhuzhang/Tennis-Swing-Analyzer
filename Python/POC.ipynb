{
 "cells": [
  {
   "cell_type": "code",
   "execution_count": 26,
   "metadata": {},
   "outputs": [],
   "source": [
    "#Proof of Concept"
   ]
  },
  {
   "cell_type": "code",
   "execution_count": 27,
   "metadata": {},
   "outputs": [],
   "source": [
    "#Imports\n",
    "import pandas as pd\n",
    "import os\n",
    "import pathlib\n",
    "import shutil\n",
    "import data_analysis\n",
    "from sklearn.ensemble import RandomForestClassifier\n",
    "from sklearn.metrics import accuracy_score\n",
    "from joblib import dump, load\n",
    "import statistics\n",
    "import numpy as np"
   ]
  },
  {
   "cell_type": "code",
   "execution_count": 28,
   "metadata": {},
   "outputs": [],
   "source": [
    "#Paths\n",
    "path = pathlib.Path().cwd().parent\n",
    "path_labeled = path / \"Data\" / \"Combined\"\n",
    "path_train = path / \"Data\" / \"Train\"\n",
    "path_validation = path / \"Data\" / \"Validation\"\n",
    "\n",
    "path_train.mkdir(parents=True, exist_ok=True)\n",
    "path_validation.mkdir(parents=True, exist_ok=True)\n",
    "\n",
    "train_data = [file.name for file in path_train.iterdir()]\n",
    "train_file_paths = [(path_train / file) for file in train_data]\n",
    "\n",
    "validation_data = [file.name for file in path_validation.iterdir()]\n",
    "validation_file_paths = [(path_validation / file) for file in validation_data]\n",
    "\n",
    "#Activity labels\n",
    "Activities = [\"BHD\", \"FHD\", \"SRV\", \"VOL\"]\n",
    "\n",
    "#Activity mapping function\n",
    "def act(activity: str):\n",
    "    for i in range(len(Activities)):\n",
    "        if activity == Activities[i]:\n",
    "            return i\n",
    "    return -1\n"
   ]
  },
  {
   "cell_type": "code",
   "execution_count": 29,
   "metadata": {},
   "outputs": [],
   "source": [
    "#Create validation and training sets\n",
    "#First 5 is validation, Last 25 is training\n",
    "files_in_data = [file.name for file in path_labeled.iterdir()]\n",
    "for file in files_in_data:\n",
    "    if file[0:3] in Activities: \n",
    "        if int(file[4:-4]) <= 5:\n",
    "            shutil.copy(path_labeled / file, path_validation)\n",
    "        else:\n",
    "            shutil.copy(path_labeled / file, path_train)"
   ]
  },
  {
   "cell_type": "code",
   "execution_count": 30,
   "metadata": {},
   "outputs": [],
   "source": [
    "#Activity mapping function\n",
    "def act(activity: str):\n",
    "    for i in range(len(Activities)):\n",
    "        if activity == Activities[i]:\n",
    "            return i\n",
    "    return -1\n",
    "\n",
    "\n",
    "#Generates features from csv\n",
    "def summarize(csv_file: str):\n",
    "    \n",
    "    data = pd.read_csv(csv_file, index_col=False)\n",
    "    start, end = data_analysis.get_start_end(data)\n",
    "    data = data_analysis.add_features(data)\n",
    "    data = data[start:end]\n",
    "    result = [0]*80\n",
    "    for index, col in enumerate(data):\n",
    "        if col != \"time\":\n",
    "            if(index > 40):\n",
    "                break\n",
    "            result[2*(index-1)], result[2*(index-1)+1] = data[col].mean(), data[col].var()\n",
    "\n",
    "    return result\n",
    "\n",
    "#Generates features/label sets of data from file paths\n",
    "def preprocess(filepathset):\n",
    "    features = [0] * 2\n",
    "    features[0] = [summarize(file) for file in filepathset] #summarization\n",
    "    features[1] = [act(file.name[0:3]) for file in filepathset] #label\n",
    "    return features\n",
    "\n",
    "#Takes x training samples from each person in filepath set.\n",
    "def xsamples(filepathset, samples):\n",
    "    return [file for file in filepathset if int(file.name[-6:-4]) < ( samples + 6)]"
   ]
  },
  {
   "cell_type": "code",
   "execution_count": 31,
   "metadata": {},
   "outputs": [],
   "source": [
    "samples = 25\n",
    "train_features = preprocess(xsamples(train_file_paths,samples))\n"
   ]
  },
  {
   "cell_type": "code",
   "execution_count": 32,
   "metadata": {},
   "outputs": [
    {
     "name": "stdout",
     "output_type": "stream",
     "text": [
      "accuracy (test) : 1.0\n",
      "accuracy (validation) : 1.0\n"
     ]
    }
   ],
   "source": [
    "model = RandomForestClassifier()\n",
    "model.fit(train_features[0], train_features[1])\n",
    "y_pred = model.predict(train_features[0])\n",
    "accuracy = accuracy_score(train_features[1], y_pred)\n",
    "print(\"accuracy (test) :\", accuracy)\n",
    "\n",
    "#validation\n",
    "validation_features = preprocess(validation_file_paths)\n",
    "y_pred_2 = model.predict(validation_features[0])\n",
    "accuracy2 = accuracy_score(validation_features[1], y_pred_2)\n",
    "print(\"accuracy (validation) :\", accuracy2)"
   ]
  }
 ],
 "metadata": {
  "kernelspec": {
   "display_name": "Python 3",
   "language": "python",
   "name": "python3"
  },
  "language_info": {
   "codemirror_mode": {
    "name": "ipython",
    "version": 3
   },
   "file_extension": ".py",
   "mimetype": "text/x-python",
   "name": "python",
   "nbconvert_exporter": "python",
   "pygments_lexer": "ipython3",
   "version": "3.11.6"
  }
 },
 "nbformat": 4,
 "nbformat_minor": 2
}

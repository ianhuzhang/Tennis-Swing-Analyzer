{
 "cells": [
  {
   "cell_type": "code",
   "execution_count": 1,
   "metadata": {},
   "outputs": [],
   "source": [
    "#Proof of Concept"
   ]
  },
  {
   "cell_type": "code",
   "execution_count": 2,
   "metadata": {},
   "outputs": [],
   "source": [
    "#Imports\n",
    "import pandas as pd\n",
    "import os\n",
    "import pathlib\n",
    "import shutil\n",
    "import data_analysis\n",
    "from sklearn.ensemble import RandomForestClassifier\n",
    "from sklearn.metrics import accuracy_score\n",
    "from joblib import dump, load\n",
    "import statistics\n",
    "import numpy as np"
   ]
  },
  {
   "cell_type": "code",
   "execution_count": 3,
   "metadata": {},
   "outputs": [],
   "source": [
    "#Paths\n",
    "path = pathlib.Path().cwd().parent\n",
    "path_labeled = path / \"Data\" / \"Combined\"\n",
    "path_train = path / \"Data\" / \"Train\"\n",
    "path_validation = path / \"Data\" / \"Validation\"\n",
    "\n",
    "path_train.mkdir(parents=True, exist_ok=True)\n",
    "path_validation.mkdir(parents=True, exist_ok=True)\n",
    "\n",
    "train_data = [file.name for file in path_train.iterdir()]\n",
    "train_file_paths = [(path_train / file) for file in train_data]\n",
    "\n",
    "validation_data = [file.name for file in path_validation.iterdir()]\n",
    "validation_file_paths = [(path_validation / file) for file in validation_data]\n",
    "\n",
    "#Activity labels\n",
    "Activities = [\"BHD\", \"FHD\", \"SRV\", \"VOL\"]\n",
    "\n",
    "#Activity mapping function\n",
    "def act(activity: str):\n",
    "    for i in range(len(Activities)):\n",
    "        if activity == Activities[i]:\n",
    "            return i\n",
    "    return -1\n"
   ]
  },
  {
   "cell_type": "code",
   "execution_count": 4,
   "metadata": {},
   "outputs": [],
   "source": [
    "#Create validation and training sets\n",
    "#First 5 is validation, Last 25 is training\n",
    "files_in_data = [file.name for file in path_labeled.iterdir()]\n",
    "for file in files_in_data:\n",
    "    if file[0:3] in Activities: \n",
    "        if int(file[4:-4]) <= 5:\n",
    "            shutil.copy(path_labeled / file, path_validation)\n",
    "        else:\n",
    "            shutil.copy(path_labeled / file, path_train)"
   ]
  },
  {
   "cell_type": "code",
   "execution_count": 5,
   "metadata": {},
   "outputs": [],
   "source": [
    "#Activity mapping function\n",
    "def act(activity: str):\n",
    "    for i in range(len(Activities)):\n",
    "        if activity == Activities[i]:\n",
    "            return i\n",
    "    return -1\n",
    "\n",
    "\n",
    "#Generates features from csv\n",
    "def summarize(csv_file: str):\n",
    "    \n",
    "    data = pd.read_csv(csv_file, index_col=False)\n",
    "    output = data_analysis.get_start_end2(data)\n",
    "    print(output)\n",
    "    result = [0]*72\n",
    "    for index, col in enumerate(data):\n",
    "        if col != \"time\":\n",
    "            if(index > 45):\n",
    "                break\n",
    "            result[2*(index-1)], result[2*(index-1)+1] = data[col].mean(), data[col].var()\n",
    "\n",
    "    return result\n",
    "\n",
    "#Generates features/label sets of data from file paths\n",
    "def preprocess(filepathset):\n",
    "    features = [0] * 2\n",
    "    features[0] = [summarize(file) for file in filepathset] #summarization\n",
    "    features[1] = [act(file.name[0:3]) for file in filepathset] #label\n",
    "    return features\n",
    "\n",
    "#Takes x training samples from each person in filepath set.\n",
    "def xsamples(filepathset, samples):\n",
    "    return [file for file in filepathset if int(file.name[-6:-4]) < ( samples + 6)]"
   ]
  },
  {
   "cell_type": "code",
   "execution_count": 6,
   "metadata": {},
   "outputs": [
    {
     "ename": "TypeError",
     "evalue": "'Series' object cannot be interpreted as an integer",
     "output_type": "error",
     "traceback": [
      "\u001b[0;31m---------------------------------------------------------------------------\u001b[0m",
      "\u001b[0;31mTypeError\u001b[0m                                 Traceback (most recent call last)",
      "Cell \u001b[0;32mIn[6], line 2\u001b[0m\n\u001b[1;32m      1\u001b[0m samples \u001b[38;5;241m=\u001b[39m \u001b[38;5;241m25\u001b[39m\n\u001b[0;32m----> 2\u001b[0m train_features \u001b[38;5;241m=\u001b[39m \u001b[43mpreprocess\u001b[49m\u001b[43m(\u001b[49m\u001b[43mxsamples\u001b[49m\u001b[43m(\u001b[49m\u001b[43mtrain_file_paths\u001b[49m\u001b[43m,\u001b[49m\u001b[43msamples\u001b[49m\u001b[43m)\u001b[49m\u001b[43m)\u001b[49m\n",
      "Cell \u001b[0;32mIn[5], line 27\u001b[0m, in \u001b[0;36mpreprocess\u001b[0;34m(filepathset)\u001b[0m\n\u001b[1;32m     25\u001b[0m \u001b[38;5;28;01mdef\u001b[39;00m \u001b[38;5;21mpreprocess\u001b[39m(filepathset):\n\u001b[1;32m     26\u001b[0m     features \u001b[38;5;241m=\u001b[39m [\u001b[38;5;241m0\u001b[39m] \u001b[38;5;241m*\u001b[39m \u001b[38;5;241m2\u001b[39m\n\u001b[0;32m---> 27\u001b[0m     features[\u001b[38;5;241m0\u001b[39m] \u001b[38;5;241m=\u001b[39m \u001b[43m[\u001b[49m\u001b[43msummarize\u001b[49m\u001b[43m(\u001b[49m\u001b[43mfile\u001b[49m\u001b[43m)\u001b[49m\u001b[43m \u001b[49m\u001b[38;5;28;43;01mfor\u001b[39;49;00m\u001b[43m \u001b[49m\u001b[43mfile\u001b[49m\u001b[43m \u001b[49m\u001b[38;5;129;43;01min\u001b[39;49;00m\u001b[43m \u001b[49m\u001b[43mfilepathset\u001b[49m\u001b[43m]\u001b[49m \u001b[38;5;66;03m#summarization\u001b[39;00m\n\u001b[1;32m     28\u001b[0m     features[\u001b[38;5;241m1\u001b[39m] \u001b[38;5;241m=\u001b[39m [act(file\u001b[38;5;241m.\u001b[39mname[\u001b[38;5;241m0\u001b[39m:\u001b[38;5;241m3\u001b[39m]) \u001b[38;5;28;01mfor\u001b[39;00m file \u001b[38;5;129;01min\u001b[39;00m filepathset] \u001b[38;5;66;03m#label\u001b[39;00m\n\u001b[1;32m     29\u001b[0m     \u001b[38;5;28;01mreturn\u001b[39;00m features\n",
      "Cell \u001b[0;32mIn[5], line 27\u001b[0m, in \u001b[0;36m<listcomp>\u001b[0;34m(.0)\u001b[0m\n\u001b[1;32m     25\u001b[0m \u001b[38;5;28;01mdef\u001b[39;00m \u001b[38;5;21mpreprocess\u001b[39m(filepathset):\n\u001b[1;32m     26\u001b[0m     features \u001b[38;5;241m=\u001b[39m [\u001b[38;5;241m0\u001b[39m] \u001b[38;5;241m*\u001b[39m \u001b[38;5;241m2\u001b[39m\n\u001b[0;32m---> 27\u001b[0m     features[\u001b[38;5;241m0\u001b[39m] \u001b[38;5;241m=\u001b[39m [\u001b[43msummarize\u001b[49m\u001b[43m(\u001b[49m\u001b[43mfile\u001b[49m\u001b[43m)\u001b[49m \u001b[38;5;28;01mfor\u001b[39;00m file \u001b[38;5;129;01min\u001b[39;00m filepathset] \u001b[38;5;66;03m#summarization\u001b[39;00m\n\u001b[1;32m     28\u001b[0m     features[\u001b[38;5;241m1\u001b[39m] \u001b[38;5;241m=\u001b[39m [act(file\u001b[38;5;241m.\u001b[39mname[\u001b[38;5;241m0\u001b[39m:\u001b[38;5;241m3\u001b[39m]) \u001b[38;5;28;01mfor\u001b[39;00m file \u001b[38;5;129;01min\u001b[39;00m filepathset] \u001b[38;5;66;03m#label\u001b[39;00m\n\u001b[1;32m     29\u001b[0m     \u001b[38;5;28;01mreturn\u001b[39;00m features\n",
      "Cell \u001b[0;32mIn[5], line 13\u001b[0m, in \u001b[0;36msummarize\u001b[0;34m(csv_file)\u001b[0m\n\u001b[1;32m     10\u001b[0m \u001b[38;5;28;01mdef\u001b[39;00m \u001b[38;5;21msummarize\u001b[39m(csv_file: \u001b[38;5;28mstr\u001b[39m):\n\u001b[1;32m     12\u001b[0m     data \u001b[38;5;241m=\u001b[39m pd\u001b[38;5;241m.\u001b[39mread_csv(csv_file, index_col\u001b[38;5;241m=\u001b[39m\u001b[38;5;28;01mFalse\u001b[39;00m)\n\u001b[0;32m---> 13\u001b[0m     start, end \u001b[38;5;241m=\u001b[39m \u001b[43mdata_analysis\u001b[49m\u001b[38;5;241;43m.\u001b[39;49m\u001b[43mget_start_end2\u001b[49m\u001b[43m(\u001b[49m\u001b[43mdata\u001b[49m\u001b[43m)\u001b[49m\n\u001b[1;32m     14\u001b[0m     \u001b[38;5;28mprint\u001b[39m(start, end)\n\u001b[1;32m     15\u001b[0m     result \u001b[38;5;241m=\u001b[39m [\u001b[38;5;241m0\u001b[39m]\u001b[38;5;241m*\u001b[39m\u001b[38;5;241m72\u001b[39m\n",
      "File \u001b[0;32m~/Documents/GitHub/Tennis-Swing-Analyzer/Python/data_analysis.py:125\u001b[0m, in \u001b[0;36mget_start_end2\u001b[0;34m(data)\u001b[0m\n\u001b[1;32m    123\u001b[0m         \u001b[38;5;28;01mbreak\u001b[39;00m\n\u001b[1;32m    124\u001b[0m     \u001b[38;5;66;03m# end\u001b[39;00m\n\u001b[0;32m--> 125\u001b[0m \u001b[38;5;28;01mfor\u001b[39;00m i \u001b[38;5;129;01min\u001b[39;00m \u001b[38;5;28mrange\u001b[39m(start, data[\u001b[38;5;124m\"\u001b[39m\u001b[38;5;124mcontroller_right_vel\u001b[39m\u001b[38;5;124m\"\u001b[39m]):\n\u001b[1;32m    126\u001b[0m     \u001b[38;5;28;01mif\u001b[39;00m (\n\u001b[1;32m    127\u001b[0m         \u001b[38;5;28mabs\u001b[39m(data[\u001b[38;5;124m\"\u001b[39m\u001b[38;5;124mcontroller_right_vel.z\u001b[39m\u001b[38;5;124m\"\u001b[39m][i]) \u001b[38;5;241m<\u001b[39m\u001b[38;5;241m=\u001b[39m \u001b[38;5;241m0.2\u001b[39m\n\u001b[1;32m    128\u001b[0m         \u001b[38;5;129;01mand\u001b[39;00m \u001b[38;5;28mabs\u001b[39m(data[\u001b[38;5;124m\"\u001b[39m\u001b[38;5;124mcontroller_right_vel.z\u001b[39m\u001b[38;5;124m\"\u001b[39m][i \u001b[38;5;241m-\u001b[39m \u001b[38;5;241m1\u001b[39m]) \u001b[38;5;241m>\u001b[39m \u001b[38;5;241m0.2\u001b[39m\n\u001b[0;32m   (...)\u001b[0m\n\u001b[1;32m    132\u001b[0m         )\n\u001b[1;32m    133\u001b[0m     ):\n\u001b[1;32m    134\u001b[0m         end \u001b[38;5;241m=\u001b[39m i\n",
      "\u001b[0;31mTypeError\u001b[0m: 'Series' object cannot be interpreted as an integer"
     ]
    }
   ],
   "source": [
    "samples = 25\n",
    "train_features = preprocess(xsamples(train_file_paths,samples))\n"
   ]
  },
  {
   "cell_type": "code",
   "execution_count": null,
   "metadata": {},
   "outputs": [
    {
     "name": "stdout",
     "output_type": "stream",
     "text": [
      "accuracy (test) : 1.0\n",
      "accuracy (validation) : 1.0\n"
     ]
    }
   ],
   "source": [
    "rf = RandomForestClassifier()\n",
    "rf.fit(train_features[0], train_features[1])\n",
    "y_pred = rf.predict(train_features[0])\n",
    "accuracy = accuracy_score(train_features[1], y_pred)\n",
    "print(\"accuracy (test) :\", accuracy)\n",
    "\n",
    "#validation\n",
    "validation_features = preprocess(validation_file_paths)\n",
    "y_pred_2 = rf.predict(validation_features[0])\n",
    "accuracy2 = accuracy_score(validation_features[1], y_pred_2)\n",
    "print(\"accuracy (validation) :\", accuracy2)"
   ]
  }
 ],
 "metadata": {
  "kernelspec": {
   "display_name": "Python 3",
   "language": "python",
   "name": "python3"
  },
  "language_info": {
   "codemirror_mode": {
    "name": "ipython",
    "version": 3
   },
   "file_extension": ".py",
   "mimetype": "text/x-python",
   "name": "python",
   "nbconvert_exporter": "python",
   "pygments_lexer": "ipython3",
   "version": "3.11.6"
  }
 },
 "nbformat": 4,
 "nbformat_minor": 2
}
